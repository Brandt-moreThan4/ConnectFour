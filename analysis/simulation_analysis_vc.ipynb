{
 "cells": [
  {
   "cell_type": "code",
   "execution_count": 8,
   "metadata": {},
   "outputs": [],
   "source": [
    "import pandas as pd\n",
    "from pathlib import Path\n",
    "import json\n",
    "import matplotlib.pyplot as plt\n",
    "import numpy as np\n",
    "import seaborn as sns; sns.set_theme()"
   ]
  },
  {
   "cell_type": "code",
   "execution_count": 9,
   "metadata": {},
   "outputs": [
    {
     "data": {
      "text/plain": [
       "WindowsPath('c:/Users/User/OneDrive/Desktop/Code/ConnectFour/model_training/data/simulation_data_testing.json')"
      ]
     },
     "execution_count": 9,
     "metadata": {},
     "output_type": "execute_result"
    }
   ],
   "source": [
    "PROJECT_FOLDER = Path().absolute().parent\n",
    "DATA_FOLDER = PROJECT_FOLDER / 'model_training' / 'data'\n",
    "DATA_FILE = DATA_FOLDER / 'stable' / 'simulation_data_1_r1_r2.json'\n",
    "DATA_FILE = DATA_FOLDER / 'simulation_data_testing.json'\n",
    "\n",
    "DATA_FILE.absolute()\n",
    "# DATA_FILE.exists()"
   ]
  },
  {
   "cell_type": "markdown",
   "metadata": {},
   "source": [
    "# Load Data"
   ]
  },
  {
   "cell_type": "code",
   "execution_count": 10,
   "metadata": {},
   "outputs": [
    {
     "name": "stdout",
     "output_type": "stream",
     "text": [
      "(1201, 6)\n"
     ]
    },
    {
     "data": {
      "text/html": [
       "<div>\n",
       "<style scoped>\n",
       "    .dataframe tbody tr th:only-of-type {\n",
       "        vertical-align: middle;\n",
       "    }\n",
       "\n",
       "    .dataframe tbody tr th {\n",
       "        vertical-align: top;\n",
       "    }\n",
       "\n",
       "    .dataframe thead th {\n",
       "        text-align: right;\n",
       "    }\n",
       "</style>\n",
       "<table border=\"1\" class=\"dataframe\">\n",
       "  <thead>\n",
       "    <tr style=\"text-align: right;\">\n",
       "      <th></th>\n",
       "      <th>game_id</th>\n",
       "      <th>player_one_id</th>\n",
       "      <th>player_two_id</th>\n",
       "      <th>winner_id</th>\n",
       "      <th>moves</th>\n",
       "      <th>turns</th>\n",
       "    </tr>\n",
       "  </thead>\n",
       "  <tbody>\n",
       "    <tr>\n",
       "      <th>0</th>\n",
       "      <td>1731870746629741-000356-2adf9fb4</td>\n",
       "      <td>monte_carlo_100</td>\n",
       "      <td>random_move_1</td>\n",
       "      <td>monte_carlo_100</td>\n",
       "      <td>[0, 3, 6, 1, 5, 0, 5, 4, 2, 4, 5, 5, 4, 4, 3, ...</td>\n",
       "      <td>17</td>\n",
       "    </tr>\n",
       "    <tr>\n",
       "      <th>1</th>\n",
       "      <td>1731870750369903-050817-a00dbe6e</td>\n",
       "      <td>random_move_1</td>\n",
       "      <td>monte_carlo_100</td>\n",
       "      <td>monte_carlo_100</td>\n",
       "      <td>[5, 1, 0, 4, 6, 2, 3, 1, 5, 1, 1, 4, 0, 2, 3, ...</td>\n",
       "      <td>20</td>\n",
       "    </tr>\n",
       "    <tr>\n",
       "      <th>2</th>\n",
       "      <td>1731870753650885-112529-a630f130</td>\n",
       "      <td>monte_carlo_100</td>\n",
       "      <td>random_move_1</td>\n",
       "      <td>monte_carlo_100</td>\n",
       "      <td>[1, 5, 3, 0, 2, 4, 5, 5, 3, 5, 4, 2, 6, 6, 3, ...</td>\n",
       "      <td>29</td>\n",
       "    </tr>\n",
       "    <tr>\n",
       "      <th>3</th>\n",
       "      <td>1731870758074513-827605-adec2322</td>\n",
       "      <td>random_move_1</td>\n",
       "      <td>monte_carlo_100</td>\n",
       "      <td>monte_carlo_100</td>\n",
       "      <td>[1, 3, 3, 5, 1, 4, 2, 6]</td>\n",
       "      <td>8</td>\n",
       "    </tr>\n",
       "    <tr>\n",
       "      <th>4</th>\n",
       "      <td>1731870759427101-166959-c9d1c2a3</td>\n",
       "      <td>monte_carlo_100</td>\n",
       "      <td>random_move_1</td>\n",
       "      <td>monte_carlo_100</td>\n",
       "      <td>[3, 3, 2, 6, 1, 0, 4]</td>\n",
       "      <td>7</td>\n",
       "    </tr>\n",
       "  </tbody>\n",
       "</table>\n",
       "</div>"
      ],
      "text/plain": [
       "                            game_id    player_one_id    player_two_id  \\\n",
       "0  1731870746629741-000356-2adf9fb4  monte_carlo_100    random_move_1   \n",
       "1  1731870750369903-050817-a00dbe6e    random_move_1  monte_carlo_100   \n",
       "2  1731870753650885-112529-a630f130  monte_carlo_100    random_move_1   \n",
       "3  1731870758074513-827605-adec2322    random_move_1  monte_carlo_100   \n",
       "4  1731870759427101-166959-c9d1c2a3  monte_carlo_100    random_move_1   \n",
       "\n",
       "         winner_id                                              moves  turns  \n",
       "0  monte_carlo_100  [0, 3, 6, 1, 5, 0, 5, 4, 2, 4, 5, 5, 4, 4, 3, ...     17  \n",
       "1  monte_carlo_100  [5, 1, 0, 4, 6, 2, 3, 1, 5, 1, 1, 4, 0, 2, 3, ...     20  \n",
       "2  monte_carlo_100  [1, 5, 3, 0, 2, 4, 5, 5, 3, 5, 4, 2, 6, 6, 3, ...     29  \n",
       "3  monte_carlo_100                           [1, 3, 3, 5, 1, 4, 2, 6]      8  \n",
       "4  monte_carlo_100                              [3, 3, 2, 6, 1, 0, 4]      7  "
      ]
     },
     "execution_count": 10,
     "metadata": {},
     "output_type": "execute_result"
    }
   ],
   "source": [
    "raw_data_df = pd.read_json(DATA_FILE)\n",
    "print(raw_data_df.shape)\n",
    "raw_data_df.head()"
   ]
  },
  {
   "cell_type": "code",
   "execution_count": null,
   "metadata": {},
   "outputs": [],
   "source": []
  },
  {
   "cell_type": "markdown",
   "metadata": {},
   "source": [
    "# Analysis"
   ]
  },
  {
   "cell_type": "code",
   "execution_count": 11,
   "metadata": {},
   "outputs": [],
   "source": [
    "data_df = raw_data_df.copy()"
   ]
  },
  {
   "cell_type": "code",
   "execution_count": 12,
   "metadata": {},
   "outputs": [
    {
     "data": {
      "text/plain": [
       "winner_id\n",
       "monte_carlo_100    82.014988\n",
       "random_move_1      16.486261\n",
       "Tie                 1.498751\n",
       "Name: proportion, dtype: float64"
      ]
     },
     "execution_count": 12,
     "metadata": {},
     "output_type": "execute_result"
    }
   ],
   "source": [
    "# Who won the most games? in %\n",
    "data_df['winner_id'].value_counts(normalize=True) * 100"
   ]
  },
  {
   "cell_type": "code",
   "execution_count": null,
   "metadata": {},
   "outputs": [],
   "source": []
  },
  {
   "cell_type": "code",
   "execution_count": 13,
   "metadata": {},
   "outputs": [],
   "source": [
    "# # data_df.turns.value_counts().sort_index().plot(kind='bar')\n",
    "# data_df.turns.value_counts().sort_index()"
   ]
  },
  {
   "cell_type": "code",
   "execution_count": null,
   "metadata": {},
   "outputs": [],
   "source": []
  },
  {
   "cell_type": "code",
   "execution_count": 14,
   "metadata": {},
   "outputs": [
    {
     "data": {
      "text/plain": [
       "<Axes: xlabel='turns', ylabel='Count'>"
      ]
     },
     "execution_count": 14,
     "metadata": {},
     "output_type": "execute_result"
    },
    {
     "data": {
      "image/png": "[encoded data removed]",
      "text/plain": [
       "<Figure size 700x400 with 1 Axes>"
      ]
     },
     "metadata": {},
     "output_type": "display_data"
    }
   ],
   "source": [
    "# turn_distribution = data_df.turns.value_counts()\n",
    "fig, ax = plt.subplots(figsize = (7, 4))\n",
    "sns.histplot(data_df.turns, ax=ax,binwidth=1, discrete=True)"
   ]
  },
  {
   "cell_type": "code",
   "execution_count": null,
   "metadata": {},
   "outputs": [],
   "source": []
  },
  {
   "cell_type": "code",
   "execution_count": null,
   "metadata": {},
   "outputs": [],
   "source": []
  },
  {
   "cell_type": "code",
   "execution_count": null,
   "metadata": {},
   "outputs": [],
   "source": []
  },
  {
   "cell_type": "code",
   "execution_count": null,
   "metadata": {},
   "outputs": [],
   "source": []
  },
  {
   "cell_type": "code",
   "execution_count": null,
   "metadata": {},
   "outputs": [],
   "source": []
  },
  {
   "cell_type": "code",
   "execution_count": null,
   "metadata": {},
   "outputs": [],
   "source": []
  }
 ],
 "metadata": {
  "kernelspec": {
   "display_name": "BG1",
   "language": "python",
   "name": "python3"
  },
  "language_info": {
   "codemirror_mode": {
    "name": "ipython",
    "version": 3
   },
   "file_extension": ".py",
   "mimetype": "text/x-python",
   "name": "python",
   "nbconvert_exporter": "python",
   "pygments_lexer": "ipython3",
   "version": "3.12.4"
  }
 },
 "nbformat": 4,
 "nbformat_minor": 2
}
