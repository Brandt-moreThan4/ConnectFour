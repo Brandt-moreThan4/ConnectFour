{
 "cells": [
  {
   "cell_type": "code",
   "execution_count": 22,
   "metadata": {},
   "outputs": [],
   "source": [
    "import pandas as pd\n",
    "from pathlib import Path\n",
    "import json\n",
    "import matplotlib.pyplot as plt\n",
    "import numpy as np\n",
    "import seaborn as sns; sns.set_theme()"
   ]
  },
  {
   "cell_type": "code",
   "execution_count": 14,
   "metadata": {},
   "outputs": [
    {
     "data": {
      "text/plain": [
       "WindowsPath('c:/Users/User/OneDrive/Desktop/Code/ConnectFour/model_training/data/simulation_data_1_r1_r2.json')"
      ]
     },
     "execution_count": 14,
     "metadata": {},
     "output_type": "execute_result"
    }
   ],
   "source": [
    "PROJECT_FOLDER = Path().absolute().parent\n",
    "DATA_FOLDER = PROJECT_FOLDER / 'model_training' / 'data'\n",
    "DATA_FILE = DATA_FOLDER / 'simulation_data_1_r1_r2.json'\n",
    "DATA_FILE.absolute()\n",
    "# DATA_FILE.exists()"
   ]
  },
  {
   "cell_type": "markdown",
   "metadata": {},
   "source": [
    "# Load Data"
   ]
  },
  {
   "cell_type": "code",
   "execution_count": 17,
   "metadata": {},
   "outputs": [
    {
     "name": "stdout",
     "output_type": "stream",
     "text": [
      "(10000, 6)\n"
     ]
    },
    {
     "data": {
      "text/html": [
       "<div>\n",
       "<style scoped>\n",
       "    .dataframe tbody tr th:only-of-type {\n",
       "        vertical-align: middle;\n",
       "    }\n",
       "\n",
       "    .dataframe tbody tr th {\n",
       "        vertical-align: top;\n",
       "    }\n",
       "\n",
       "    .dataframe thead th {\n",
       "        text-align: right;\n",
       "    }\n",
       "</style>\n",
       "<table border=\"1\" class=\"dataframe\">\n",
       "  <thead>\n",
       "    <tr style=\"text-align: right;\">\n",
       "      <th></th>\n",
       "      <th>game_id</th>\n",
       "      <th>player_one_id</th>\n",
       "      <th>player_two_id</th>\n",
       "      <th>winner_id</th>\n",
       "      <th>moves</th>\n",
       "      <th>turns</th>\n",
       "    </tr>\n",
       "  </thead>\n",
       "  <tbody>\n",
       "    <tr>\n",
       "      <th>0</th>\n",
       "      <td>2.024112e+19</td>\n",
       "      <td>random_move_1</td>\n",
       "      <td>random_move_2</td>\n",
       "      <td>random_move_1</td>\n",
       "      <td>[5, 0, 3, 2, 2, 1, 2, 6, 6, 1, 2, 6, 2]</td>\n",
       "      <td>13</td>\n",
       "    </tr>\n",
       "    <tr>\n",
       "      <th>1</th>\n",
       "      <td>2.024112e+19</td>\n",
       "      <td>random_move_1</td>\n",
       "      <td>random_move_2</td>\n",
       "      <td>random_move_1</td>\n",
       "      <td>[1, 2, 3, 2, 6, 3, 0, 3, 4, 6, 5]</td>\n",
       "      <td>11</td>\n",
       "    </tr>\n",
       "    <tr>\n",
       "      <th>2</th>\n",
       "      <td>2.024112e+19</td>\n",
       "      <td>random_move_1</td>\n",
       "      <td>random_move_2</td>\n",
       "      <td>random_move_2</td>\n",
       "      <td>[6, 5, 4, 1, 1, 3, 0, 4, 2, 6, 1, 3, 1, 5]</td>\n",
       "      <td>14</td>\n",
       "    </tr>\n",
       "    <tr>\n",
       "      <th>3</th>\n",
       "      <td>2.024112e+19</td>\n",
       "      <td>random_move_1</td>\n",
       "      <td>random_move_2</td>\n",
       "      <td>random_move_1</td>\n",
       "      <td>[6, 0, 3, 6, 5, 2, 4]</td>\n",
       "      <td>7</td>\n",
       "    </tr>\n",
       "    <tr>\n",
       "      <th>4</th>\n",
       "      <td>2.024112e+19</td>\n",
       "      <td>random_move_1</td>\n",
       "      <td>random_move_2</td>\n",
       "      <td>random_move_1</td>\n",
       "      <td>[5, 0, 0, 5, 5, 4, 0, 0, 0, 0, 5, 1, 5, 3, 2, ...</td>\n",
       "      <td>17</td>\n",
       "    </tr>\n",
       "  </tbody>\n",
       "</table>\n",
       "</div>"
      ],
      "text/plain": [
       "        game_id  player_one_id  player_two_id      winner_id  \\\n",
       "0  2.024112e+19  random_move_1  random_move_2  random_move_1   \n",
       "1  2.024112e+19  random_move_1  random_move_2  random_move_1   \n",
       "2  2.024112e+19  random_move_1  random_move_2  random_move_2   \n",
       "3  2.024112e+19  random_move_1  random_move_2  random_move_1   \n",
       "4  2.024112e+19  random_move_1  random_move_2  random_move_1   \n",
       "\n",
       "                                               moves  turns  \n",
       "0            [5, 0, 3, 2, 2, 1, 2, 6, 6, 1, 2, 6, 2]     13  \n",
       "1                  [1, 2, 3, 2, 6, 3, 0, 3, 4, 6, 5]     11  \n",
       "2         [6, 5, 4, 1, 1, 3, 0, 4, 2, 6, 1, 3, 1, 5]     14  \n",
       "3                              [6, 0, 3, 6, 5, 2, 4]      7  \n",
       "4  [5, 0, 0, 5, 5, 4, 0, 0, 0, 0, 5, 1, 5, 3, 2, ...     17  "
      ]
     },
     "execution_count": 17,
     "metadata": {},
     "output_type": "execute_result"
    }
   ],
   "source": [
    "raw_data_df = pd.read_json(DATA_FILE)\n",
    "print(raw_data_df.shape)\n",
    "raw_data_df.head()"
   ]
  },
  {
   "cell_type": "code",
   "execution_count": null,
   "metadata": {},
   "outputs": [],
   "source": []
  },
  {
   "cell_type": "markdown",
   "metadata": {},
   "source": [
    "# Analysis"
   ]
  },
  {
   "cell_type": "code",
   "execution_count": null,
   "metadata": {},
   "outputs": [
    {
     "data": {
      "text/plain": [
       "game_id\n",
       "2.024112e+19    2\n",
       "2.024112e+19    2\n",
       "2.024112e+19    2\n",
       "2.024112e+19    2\n",
       "2.024112e+19    2\n",
       "               ..\n",
       "2.024112e+19    1\n",
       "2.024112e+19    1\n",
       "2.024112e+19    1\n",
       "2.024112e+19    1\n",
       "2.024112e+19    1\n",
       "Name: count, Length: 9995, dtype: int64"
      ]
     },
     "execution_count": 20,
     "metadata": {},
     "output_type": "execute_result"
    }
   ],
   "source": [
    "data_df = raw_data_df.copy()"
   ]
  },
  {
   "cell_type": "code",
   "execution_count": 26,
   "metadata": {},
   "outputs": [
    {
     "data": {
      "text/plain": [
       "turns\n",
       "7     137\n",
       "8      79\n",
       "9     298\n",
       "10    154\n",
       "11    360\n",
       "12    198\n",
       "13    435\n",
       "14    289\n",
       "15    461\n",
       "16    355\n",
       "17    561\n",
       "18    429\n",
       "19    557\n",
       "20    483\n",
       "21    586\n",
       "22    443\n",
       "23    500\n",
       "24    447\n",
       "25    463\n",
       "26    383\n",
       "27    391\n",
       "28    298\n",
       "29    299\n",
       "30    274\n",
       "31    231\n",
       "32    205\n",
       "33    164\n",
       "34    117\n",
       "35    100\n",
       "36     77\n",
       "37     65\n",
       "38     53\n",
       "39     41\n",
       "40     20\n",
       "41     18\n",
       "42     29\n",
       "Name: count, dtype: int64"
      ]
     },
     "execution_count": 26,
     "metadata": {},
     "output_type": "execute_result"
    }
   ],
   "source": [
    "# data_df.turns.value_counts().sort_index().plot(kind='bar')\n",
    "data_df.turns.value_counts().sort_index()"
   ]
  },
  {
   "cell_type": "code",
   "execution_count": 27,
   "metadata": {},
   "outputs": [
    {
     "data": {
      "text/plain": [
       "<Axes: xlabel='turns', ylabel='Count'>"
      ]
     },
     "execution_count": 27,
     "metadata": {},
     "output_type": "execute_result"
    },
    {
     "data": {
      "image/png": "[encoded data removed]",
      "text/plain": [
       "<Figure size 1000x600 with 1 Axes>"
      ]
     },
     "metadata": {},
     "output_type": "display_data"
    }
   ],
   "source": [
    "# turn_distribution = data_df.turns.value_counts()\n",
    "fig, ax = plt.subplots(figsize = (10, 6))\n",
    "sns.histplot(data_df.turns, ax=ax,binwidth=1, discrete=True)"
   ]
  },
  {
   "cell_type": "code",
   "execution_count": null,
   "metadata": {},
   "outputs": [],
   "source": []
  },
  {
   "cell_type": "code",
   "execution_count": null,
   "metadata": {},
   "outputs": [],
   "source": []
  }
 ],
 "metadata": {
  "kernelspec": {
   "display_name": "BG1",
   "language": "python",
   "name": "python3"
  },
  "language_info": {
   "codemirror_mode": {
    "name": "ipython",
    "version": 3
   },
   "file_extension": ".py",
   "mimetype": "text/x-python",
   "name": "python",
   "nbconvert_exporter": "python",
   "pygments_lexer": "ipython3",
   "version": "3.12.4"
  }
 },
 "nbformat": 4,
 "nbformat_minor": 2
}
