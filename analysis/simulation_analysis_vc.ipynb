{
 "cells": [
  {
   "cell_type": "code",
   "execution_count": 1,
   "metadata": {},
   "outputs": [],
   "source": [
    "import pandas as pd\n",
    "from pathlib import Path\n",
    "import json\n",
    "import matplotlib.pyplot as plt\n",
    "import numpy as np\n",
    "import seaborn as sns; sns.set_theme()"
   ]
  },
  {
   "cell_type": "code",
   "execution_count": 2,
   "metadata": {},
   "outputs": [
    {
     "data": {
      "text/plain": [
       "WindowsPath('c:/Users/User/OneDrive/Desktop/Code/ConnectFour/model_training/data/simulation_data_1_r1_r2.json')"
      ]
     },
     "execution_count": 2,
     "metadata": {},
     "output_type": "execute_result"
    }
   ],
   "source": [
    "PROJECT_FOLDER = Path().absolute().parent\n",
    "DATA_FOLDER = PROJECT_FOLDER / 'model_training' / 'data'\n",
    "DATA_FILE = DATA_FOLDER / 'simulation_data_1_r1_r2.json'\n",
    "DATA_FILE.absolute()\n",
    "# DATA_FILE.exists()"
   ]
  },
  {
   "cell_type": "markdown",
   "metadata": {},
   "source": [
    "# Load Data"
   ]
  },
  {
   "cell_type": "code",
   "execution_count": 3,
   "metadata": {},
   "outputs": [
    {
     "name": "stdout",
     "output_type": "stream",
     "text": [
      "(50000, 6)\n"
     ]
    },
    {
     "data": {
      "text/html": [
       "<div>\n",
       "<style scoped>\n",
       "    .dataframe tbody tr th:only-of-type {\n",
       "        vertical-align: middle;\n",
       "    }\n",
       "\n",
       "    .dataframe tbody tr th {\n",
       "        vertical-align: top;\n",
       "    }\n",
       "\n",
       "    .dataframe thead th {\n",
       "        text-align: right;\n",
       "    }\n",
       "</style>\n",
       "<table border=\"1\" class=\"dataframe\">\n",
       "  <thead>\n",
       "    <tr style=\"text-align: right;\">\n",
       "      <th></th>\n",
       "      <th>game_id</th>\n",
       "      <th>player_one_id</th>\n",
       "      <th>player_two_id</th>\n",
       "      <th>winner_id</th>\n",
       "      <th>moves</th>\n",
       "      <th>turns</th>\n",
       "    </tr>\n",
       "  </thead>\n",
       "  <tbody>\n",
       "    <tr>\n",
       "      <th>0</th>\n",
       "      <td>1731802314168813-933874-44b2660d</td>\n",
       "      <td>random_move_1</td>\n",
       "      <td>random_move_2</td>\n",
       "      <td>random_move_2</td>\n",
       "      <td>[2, 4, 0, 3, 0, 6, 6, 5]</td>\n",
       "      <td>8</td>\n",
       "    </tr>\n",
       "    <tr>\n",
       "      <th>1</th>\n",
       "      <td>1731802314185451-689955-cfdcc3e0</td>\n",
       "      <td>random_move_2</td>\n",
       "      <td>random_move_1</td>\n",
       "      <td>random_move_1</td>\n",
       "      <td>[4, 5, 4, 6, 3, 6, 2, 2, 3, 3, 0, 1, 4, 6, 6, ...</td>\n",
       "      <td>24</td>\n",
       "    </tr>\n",
       "    <tr>\n",
       "      <th>2</th>\n",
       "      <td>1731802314204718-408490-0bb1cf99</td>\n",
       "      <td>random_move_1</td>\n",
       "      <td>random_move_2</td>\n",
       "      <td>random_move_1</td>\n",
       "      <td>[4, 0, 2, 1, 5, 0, 5, 0, 2, 5, 3]</td>\n",
       "      <td>11</td>\n",
       "    </tr>\n",
       "    <tr>\n",
       "      <th>3</th>\n",
       "      <td>1731802314204718-296726-bcc5e2ce</td>\n",
       "      <td>random_move_2</td>\n",
       "      <td>random_move_1</td>\n",
       "      <td>random_move_1</td>\n",
       "      <td>[6, 2, 1, 3, 4, 1, 6, 3, 4, 4, 6, 6, 0, 5, 6, ...</td>\n",
       "      <td>22</td>\n",
       "    </tr>\n",
       "    <tr>\n",
       "      <th>4</th>\n",
       "      <td>1731802314230726-242568-d4fd25ed</td>\n",
       "      <td>random_move_1</td>\n",
       "      <td>random_move_2</td>\n",
       "      <td>random_move_1</td>\n",
       "      <td>[3, 6, 0, 4, 1, 3, 0, 5, 2]</td>\n",
       "      <td>9</td>\n",
       "    </tr>\n",
       "  </tbody>\n",
       "</table>\n",
       "</div>"
      ],
      "text/plain": [
       "                            game_id  player_one_id  player_two_id  \\\n",
       "0  1731802314168813-933874-44b2660d  random_move_1  random_move_2   \n",
       "1  1731802314185451-689955-cfdcc3e0  random_move_2  random_move_1   \n",
       "2  1731802314204718-408490-0bb1cf99  random_move_1  random_move_2   \n",
       "3  1731802314204718-296726-bcc5e2ce  random_move_2  random_move_1   \n",
       "4  1731802314230726-242568-d4fd25ed  random_move_1  random_move_2   \n",
       "\n",
       "       winner_id                                              moves  turns  \n",
       "0  random_move_2                           [2, 4, 0, 3, 0, 6, 6, 5]      8  \n",
       "1  random_move_1  [4, 5, 4, 6, 3, 6, 2, 2, 3, 3, 0, 1, 4, 6, 6, ...     24  \n",
       "2  random_move_1                  [4, 0, 2, 1, 5, 0, 5, 0, 2, 5, 3]     11  \n",
       "3  random_move_1  [6, 2, 1, 3, 4, 1, 6, 3, 4, 4, 6, 6, 0, 5, 6, ...     22  \n",
       "4  random_move_1                        [3, 6, 0, 4, 1, 3, 0, 5, 2]      9  "
      ]
     },
     "execution_count": 3,
     "metadata": {},
     "output_type": "execute_result"
    }
   ],
   "source": [
    "raw_data_df = pd.read_json(DATA_FILE)\n",
    "print(raw_data_df.shape)\n",
    "raw_data_df.head()"
   ]
  },
  {
   "cell_type": "code",
   "execution_count": null,
   "metadata": {},
   "outputs": [],
   "source": []
  },
  {
   "cell_type": "markdown",
   "metadata": {},
   "source": [
    "# Analysis"
   ]
  },
  {
   "cell_type": "code",
   "execution_count": 4,
   "metadata": {},
   "outputs": [],
   "source": [
    "data_df = raw_data_df.copy()"
   ]
  },
  {
   "cell_type": "code",
   "execution_count": 7,
   "metadata": {},
   "outputs": [],
   "source": [
    "# # data_df.turns.value_counts().sort_index().plot(kind='bar')\n",
    "# data_df.turns.value_counts().sort_index()"
   ]
  },
  {
   "cell_type": "code",
   "execution_count": 6,
   "metadata": {},
   "outputs": [
    {
     "data": {
      "text/plain": [
       "<Axes: xlabel='turns', ylabel='Count'>"
      ]
     },
     "execution_count": 6,
     "metadata": {},
     "output_type": "execute_result"
    },
    {
     "data": {
      "image/png": "[encoded data removed]",
      "text/plain": [
       "<Figure size 1000x600 with 1 Axes>"
      ]
     },
     "metadata": {},
     "output_type": "display_data"
    }
   ],
   "source": [
    "# turn_distribution = data_df.turns.value_counts()\n",
    "fig, ax = plt.subplots(figsize = (10, 6))\n",
    "sns.histplot(data_df.turns, ax=ax,binwidth=1, discrete=True)"
   ]
  },
  {
   "cell_type": "code",
   "execution_count": null,
   "metadata": {},
   "outputs": [],
   "source": []
  },
  {
   "cell_type": "code",
   "execution_count": null,
   "metadata": {},
   "outputs": [],
   "source": []
  },
  {
   "cell_type": "code",
   "execution_count": null,
   "metadata": {},
   "outputs": [],
   "source": []
  },
  {
   "cell_type": "code",
   "execution_count": null,
   "metadata": {},
   "outputs": [],
   "source": []
  },
  {
   "cell_type": "code",
   "execution_count": null,
   "metadata": {},
   "outputs": [],
   "source": []
  },
  {
   "cell_type": "code",
   "execution_count": null,
   "metadata": {},
   "outputs": [],
   "source": []
  },
  {
   "cell_type": "code",
   "execution_count": null,
   "metadata": {},
   "outputs": [],
   "source": []
  }
 ],
 "metadata": {
  "kernelspec": {
   "display_name": "BG1",
   "language": "python",
   "name": "python3"
  },
  "language_info": {
   "codemirror_mode": {
    "name": "ipython",
    "version": 3
   },
   "file_extension": ".py",
   "mimetype": "text/x-python",
   "name": "python",
   "nbconvert_exporter": "python",
   "pygments_lexer": "ipython3",
   "version": "3.12.4"
  }
 },
 "nbformat": 4,
 "nbformat_minor": 2
}
