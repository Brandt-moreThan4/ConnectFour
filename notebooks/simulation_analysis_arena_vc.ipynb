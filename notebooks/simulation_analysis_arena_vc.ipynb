{
 "cells": [
  {
   "cell_type": "markdown",
   "metadata": {},
   "source": [
    "# Top of NB"
   ]
  },
  {
   "cell_type": "code",
   "execution_count": 1,
   "metadata": {},
   "outputs": [],
   "source": [
    "import pandas as pd\n",
    "from pathlib import Path\n",
    "import json\n",
    "import matplotlib.pyplot as plt\n",
    "import numpy as np\n",
    "import seaborn as sns; sns.set_theme()\n",
    "import sys\n",
    "import xlwings as xw\n",
    "\n",
    "# Set the main project folder to python path so we can import our homemade modules\n",
    "PROJECT_FOLDER = Path().absolute().parent\n",
    "sys.path.append(str(PROJECT_FOLDER))\n",
    "\n",
    "from game_mechanics.engine import DataBase\n",
    "import game_mechanics as gm "
   ]
  },
  {
   "cell_type": "code",
   "execution_count": null,
   "metadata": {},
   "outputs": [],
   "source": []
  },
  {
   "cell_type": "markdown",
   "metadata": {},
   "source": [
    "# Data Load"
   ]
  },
  {
   "cell_type": "code",
   "execution_count": 2,
   "metadata": {},
   "outputs": [
    {
     "name": "stdout",
     "output_type": "stream",
     "text": [
      "Data size: 62626\n"
     ]
    }
   ],
   "source": [
    "DATA_FOLDER = PROJECT_FOLDER / 'data'\n",
    "DATA_FILE = DATA_FOLDER / 'master_db.json'\n",
    "db = DataBase(DATA_FILE)\n",
    "print(f'Data size: {len(db.data)}')"
   ]
  },
  {
   "cell_type": "code",
   "execution_count": 3,
   "metadata": {},
   "outputs": [
    {
     "name": "stdout",
     "output_type": "stream",
     "text": [
      "(62626, 9)\n"
     ]
    },
    {
     "data": {
      "text/html": [
       "<div>\n",
       "<style scoped>\n",
       "    .dataframe tbody tr th:only-of-type {\n",
       "        vertical-align: middle;\n",
       "    }\n",
       "\n",
       "    .dataframe tbody tr th {\n",
       "        vertical-align: top;\n",
       "    }\n",
       "\n",
       "    .dataframe thead th {\n",
       "        text-align: right;\n",
       "    }\n",
       "</style>\n",
       "<table border=\"1\" class=\"dataframe\">\n",
       "  <thead>\n",
       "    <tr style=\"text-align: right;\">\n",
       "      <th></th>\n",
       "      <th>game_id</th>\n",
       "      <th>player_one_id</th>\n",
       "      <th>player_two_id</th>\n",
       "      <th>winner_id</th>\n",
       "      <th>first_mover_id</th>\n",
       "      <th>moves</th>\n",
       "      <th>turns</th>\n",
       "      <th>start_time</th>\n",
       "      <th>end_time</th>\n",
       "    </tr>\n",
       "  </thead>\n",
       "  <tbody>\n",
       "    <tr>\n",
       "      <th>0</th>\n",
       "      <td>1731877338926014-313026-dfd03d46</td>\n",
       "      <td>monte_carlo_50</td>\n",
       "      <td>monte_carlo_200</td>\n",
       "      <td>monte_carlo_200</td>\n",
       "      <td>monte_carlo_50</td>\n",
       "      <td>[2, 5, 2, 4, 0, 3, 6, 2, 4, 3, 3, 5, 3, 5, 5, ...</td>\n",
       "      <td>42</td>\n",
       "      <td>NaN</td>\n",
       "      <td>NaN</td>\n",
       "    </tr>\n",
       "    <tr>\n",
       "      <th>1</th>\n",
       "      <td>1731877383226884-899336-1e5dcfb5</td>\n",
       "      <td>random_naive</td>\n",
       "      <td>monte_carlo_500</td>\n",
       "      <td>monte_carlo_500</td>\n",
       "      <td>random_naive</td>\n",
       "      <td>[3, 3, 6, 3, 1, 3, 2, 3]</td>\n",
       "      <td>8</td>\n",
       "      <td>NaN</td>\n",
       "      <td>NaN</td>\n",
       "    </tr>\n",
       "  </tbody>\n",
       "</table>\n",
       "</div>"
      ],
      "text/plain": [
       "                            game_id   player_one_id    player_two_id  \\\n",
       "0  1731877338926014-313026-dfd03d46  monte_carlo_50  monte_carlo_200   \n",
       "1  1731877383226884-899336-1e5dcfb5    random_naive  monte_carlo_500   \n",
       "\n",
       "         winner_id  first_mover_id  \\\n",
       "0  monte_carlo_200  monte_carlo_50   \n",
       "1  monte_carlo_500    random_naive   \n",
       "\n",
       "                                               moves  turns start_time  \\\n",
       "0  [2, 5, 2, 4, 0, 3, 6, 2, 4, 3, 3, 5, 3, 5, 5, ...     42        NaN   \n",
       "1                           [3, 3, 6, 3, 1, 3, 2, 3]      8        NaN   \n",
       "\n",
       "  end_time  \n",
       "0      NaN  \n",
       "1      NaN  "
      ]
     },
     "execution_count": 3,
     "metadata": {},
     "output_type": "execute_result"
    }
   ],
   "source": [
    "raw_data = pd.DataFrame(db.data)\n",
    "print(raw_data.shape)\n",
    "raw_data.head(2)"
   ]
  },
  {
   "cell_type": "markdown",
   "metadata": {},
   "source": [
    "# Data Clean"
   ]
  },
  {
   "cell_type": "code",
   "execution_count": 4,
   "metadata": {},
   "outputs": [
    {
     "name": "stdout",
     "output_type": "stream",
     "text": [
      "(62626, 10)\n"
     ]
    },
    {
     "data": {
      "text/html": [
       "<div>\n",
       "<style scoped>\n",
       "    .dataframe tbody tr th:only-of-type {\n",
       "        vertical-align: middle;\n",
       "    }\n",
       "\n",
       "    .dataframe tbody tr th {\n",
       "        vertical-align: top;\n",
       "    }\n",
       "\n",
       "    .dataframe thead th {\n",
       "        text-align: right;\n",
       "    }\n",
       "</style>\n",
       "<table border=\"1\" class=\"dataframe\">\n",
       "  <thead>\n",
       "    <tr style=\"text-align: right;\">\n",
       "      <th></th>\n",
       "      <th>game_id</th>\n",
       "      <th>player_one_id</th>\n",
       "      <th>player_two_id</th>\n",
       "      <th>winner_id</th>\n",
       "      <th>first_mover_id</th>\n",
       "      <th>moves</th>\n",
       "      <th>turns</th>\n",
       "      <th>start_time</th>\n",
       "      <th>end_time</th>\n",
       "      <th>player_one_win</th>\n",
       "    </tr>\n",
       "  </thead>\n",
       "  <tbody>\n",
       "    <tr>\n",
       "      <th>0</th>\n",
       "      <td>1731877338926014-313026-dfd03d46</td>\n",
       "      <td>monte_carlo_50</td>\n",
       "      <td>monte_carlo_200</td>\n",
       "      <td>monte_carlo_200</td>\n",
       "      <td>monte_carlo_50</td>\n",
       "      <td>[2, 5, 2, 4, 0, 3, 6, 2, 4, 3, 3, 5, 3, 5, 5, ...</td>\n",
       "      <td>42</td>\n",
       "      <td>NaN</td>\n",
       "      <td>NaN</td>\n",
       "      <td>False</td>\n",
       "    </tr>\n",
       "    <tr>\n",
       "      <th>1</th>\n",
       "      <td>1731877383226884-899336-1e5dcfb5</td>\n",
       "      <td>random_naive</td>\n",
       "      <td>monte_carlo_500</td>\n",
       "      <td>monte_carlo_500</td>\n",
       "      <td>random_naive</td>\n",
       "      <td>[3, 3, 6, 3, 1, 3, 2, 3]</td>\n",
       "      <td>8</td>\n",
       "      <td>NaN</td>\n",
       "      <td>NaN</td>\n",
       "      <td>False</td>\n",
       "    </tr>\n",
       "  </tbody>\n",
       "</table>\n",
       "</div>"
      ],
      "text/plain": [
       "                            game_id   player_one_id    player_two_id  \\\n",
       "0  1731877338926014-313026-dfd03d46  monte_carlo_50  monte_carlo_200   \n",
       "1  1731877383226884-899336-1e5dcfb5    random_naive  monte_carlo_500   \n",
       "\n",
       "         winner_id  first_mover_id  \\\n",
       "0  monte_carlo_200  monte_carlo_50   \n",
       "1  monte_carlo_500    random_naive   \n",
       "\n",
       "                                               moves  turns start_time  \\\n",
       "0  [2, 5, 2, 4, 0, 3, 6, 2, 4, 3, 3, 5, 3, 5, 5, ...     42        NaN   \n",
       "1                           [3, 3, 6, 3, 1, 3, 2, 3]      8        NaN   \n",
       "\n",
       "  end_time  player_one_win  \n",
       "0      NaN           False  \n",
       "1      NaN           False  "
      ]
     },
     "execution_count": 4,
     "metadata": {},
     "output_type": "execute_result"
    }
   ],
   "source": [
    "data_df_1 = raw_data.copy()\n",
    "\n",
    "# Add indicator variable if player one is the winner\n",
    "data_df_1['player_one_win'] = data_df_1.winner_id == data_df_1.player_one_id\n",
    "\n",
    "print(data_df_1.shape)\n",
    "data_df_1.head(2)"
   ]
  },
  {
   "cell_type": "code",
   "execution_count": 5,
   "metadata": {},
   "outputs": [
    {
     "data": {
      "text/html": [
       "<div>\n",
       "<style scoped>\n",
       "    .dataframe tbody tr th:only-of-type {\n",
       "        vertical-align: middle;\n",
       "    }\n",
       "\n",
       "    .dataframe tbody tr th {\n",
       "        vertical-align: top;\n",
       "    }\n",
       "\n",
       "    .dataframe thead th {\n",
       "        text-align: right;\n",
       "    }\n",
       "</style>\n",
       "<table border=\"1\" class=\"dataframe\">\n",
       "  <thead>\n",
       "    <tr style=\"text-align: right;\">\n",
       "      <th></th>\n",
       "      <th>game_id</th>\n",
       "      <th>player_one_id</th>\n",
       "      <th>player_two_id</th>\n",
       "      <th>winner_id</th>\n",
       "      <th>first_mover_id</th>\n",
       "      <th>moves</th>\n",
       "      <th>turns</th>\n",
       "      <th>start_time</th>\n",
       "      <th>end_time</th>\n",
       "      <th>player_one_win</th>\n",
       "    </tr>\n",
       "  </thead>\n",
       "  <tbody>\n",
       "    <tr>\n",
       "      <th>62624</th>\n",
       "      <td>1732806409274295-273747-25fb7183</td>\n",
       "      <td>monte_carlo_100</td>\n",
       "      <td>monte_carlo_51</td>\n",
       "      <td>monte_carlo_100</td>\n",
       "      <td>monte_carlo_100</td>\n",
       "      <td>[3, 3, 2, 1, 4, 5, 2, 2, 3, 0, 6, 1, 3, 1, 1, ...</td>\n",
       "      <td>25</td>\n",
       "      <td>2024-11-28T09:06:49.274295</td>\n",
       "      <td>2024-11-28T09:06:55.535230</td>\n",
       "      <td>True</td>\n",
       "    </tr>\n",
       "    <tr>\n",
       "      <th>62625</th>\n",
       "      <td>1732806415536368-218120-39e6c59e</td>\n",
       "      <td>monte_carlo_200</td>\n",
       "      <td>monte_carlo_50</td>\n",
       "      <td>monte_carlo_200</td>\n",
       "      <td>monte_carlo_200</td>\n",
       "      <td>[3, 1, 4, 3, 5, 2, 6]</td>\n",
       "      <td>7</td>\n",
       "      <td>2024-11-28T09:06:55.536368</td>\n",
       "      <td>2024-11-28T09:06:59.202924</td>\n",
       "      <td>True</td>\n",
       "    </tr>\n",
       "  </tbody>\n",
       "</table>\n",
       "</div>"
      ],
      "text/plain": [
       "                                game_id    player_one_id   player_two_id  \\\n",
       "62624  1732806409274295-273747-25fb7183  monte_carlo_100  monte_carlo_51   \n",
       "62625  1732806415536368-218120-39e6c59e  monte_carlo_200  monte_carlo_50   \n",
       "\n",
       "             winner_id   first_mover_id  \\\n",
       "62624  monte_carlo_100  monte_carlo_100   \n",
       "62625  monte_carlo_200  monte_carlo_200   \n",
       "\n",
       "                                                   moves  turns  \\\n",
       "62624  [3, 3, 2, 1, 4, 5, 2, 2, 3, 0, 6, 1, 3, 1, 1, ...     25   \n",
       "62625                              [3, 1, 4, 3, 5, 2, 6]      7   \n",
       "\n",
       "                       start_time                    end_time  player_one_win  \n",
       "62624  2024-11-28T09:06:49.274295  2024-11-28T09:06:55.535230            True  \n",
       "62625  2024-11-28T09:06:55.536368  2024-11-28T09:06:59.202924            True  "
      ]
     },
     "execution_count": 5,
     "metadata": {},
     "output_type": "execute_result"
    }
   ],
   "source": [
    "data_df_1.tail(2)"
   ]
  },
  {
   "cell_type": "markdown",
   "metadata": {},
   "source": [
    "## Quick Game Validation\n",
    "Pick a game to make sure it's gameplay sequence looks legit."
   ]
  },
  {
   "cell_type": "code",
   "execution_count": 6,
   "metadata": {},
   "outputs": [],
   "source": [
    "# # Random Game\n",
    "# random_int = np.random.randint(0, len(data_df_1))\n",
    "# game = data_df_1.iloc[random_int]\n",
    "\n",
    "# # Or manual override game\n",
    "# game = data_df_1.iloc[59620]\n",
    "\n",
    "# # Grab the moves from this game and create a sequence of boards from those moves\n",
    "# boards = gm.Board.make_boards_from_moves(game.moves)\n",
    "\n",
    "# # Display the game unfolding:\n",
    "# print(f'Player 1: {game.player_one_id} vs Player 2: {game.player_two_id}. Winner: {game.winner_id}. (Game Int: {game.name})')\n",
    "\n",
    "# for board in boards:\n",
    "#     board.display_board()"
   ]
  },
  {
   "cell_type": "code",
   "execution_count": null,
   "metadata": {},
   "outputs": [],
   "source": []
  },
  {
   "cell_type": "markdown",
   "metadata": {},
   "source": [
    "# EDA"
   ]
  },
  {
   "cell_type": "code",
   "execution_count": 7,
   "metadata": {},
   "outputs": [
    {
     "name": "stdout",
     "output_type": "stream",
     "text": [
      "There are 62626 games in the dataset.\n"
     ]
    }
   ],
   "source": [
    "print(f'There are {len(data_df_1)} games in the dataset.')"
   ]
  },
  {
   "cell_type": "code",
   "execution_count": 8,
   "metadata": {},
   "outputs": [
    {
     "name": "stdout",
     "output_type": "stream",
     "text": [
      "Total moves: 1,139,648\n"
     ]
    }
   ],
   "source": [
    "data_df_1['num_moves'] = data_df_1.moves.apply(len)\n",
    "total_moves = data_df_1.num_moves.sum()\n",
    "print(f'Total moves: {total_moves:,}')"
   ]
  },
  {
   "cell_type": "markdown",
   "metadata": {},
   "source": [
    "## Playtime Frequency"
   ]
  },
  {
   "cell_type": "code",
   "execution_count": 9,
   "metadata": {},
   "outputs": [],
   "source": [
    "unique_players = [\n",
    "    'random_naive',\n",
    "    'random_not_stupid',    \n",
    "    'monte_carlo_50',\n",
    "    'monte_carlo_51',\n",
    "    'monte_carlo_100',\n",
    "    'monte_carlo_150',\n",
    "    'monte_carlo_200',\n",
    "    'monte_carlo_500',\n",
    "    'monte_carlo_1000',\n",
    "]\n",
    "\n",
    "data_set_players = sorted(list(set(data_df_1.player_one_id) | set(data_df_1.player_two_id)))\n",
    "# Make sure the data sets overlap completely, print any issues\n",
    "up_set = set(unique_players)\n",
    "d_set = set(data_set_players)\n",
    "assert up_set == d_set, f'Unique Players: {up_set} \\n Data Set Players: {d_set}'"
   ]
  },
  {
   "cell_type": "code",
   "execution_count": 10,
   "metadata": {},
   "outputs": [
    {
     "data": {
      "text/plain": [
       "monte_carlo_150      36741\n",
       "monte_carlo_200      28400\n",
       "monte_carlo_50       27307\n",
       "monte_carlo_51       14050\n",
       "monte_carlo_100       8215\n",
       "monte_carlo_500       4749\n",
       "monte_carlo_1000      4635\n",
       "random_not_stupid      601\n",
       "random_naive           554\n",
       "dtype: int64"
      ]
     },
     "execution_count": 10,
     "metadata": {},
     "output_type": "execute_result"
    }
   ],
   "source": [
    "# Add a indicator column onto the dataframe indicating if that player played in the game\n",
    "for player in unique_players:\n",
    "    data_df_1[player] = (data_df_1.player_one_id == player) | (data_df_1.player_two_id == player)\n",
    "\n",
    "play_counts = data_df_1[unique_players].sum()\n",
    "play_counts = play_counts.sort_values(ascending=False)\n",
    "play_counts"
   ]
  },
  {
   "cell_type": "code",
   "execution_count": 11,
   "metadata": {},
   "outputs": [
    {
     "data": {
      "text/plain": [
       "<Axes: title={'center': 'Number of Games Played by Each Player'}>"
      ]
     },
     "execution_count": 11,
     "metadata": {},
     "output_type": "execute_result"
    },
    {
     "data": {
      "image/png": "[encoded data removed]",
      "text/plain": [
       "<Figure size 1000x500 with 1 Axes>"
      ]
     },
     "metadata": {},
     "output_type": "display_data"
    }
   ],
   "source": [
    "play_counts.plot(kind='bar', figsize=(10, 5), title='Number of Games Played by Each Player')"
   ]
  },
  {
   "cell_type": "markdown",
   "metadata": {},
   "source": [
    "## Ties?"
   ]
  },
  {
   "cell_type": "code",
   "execution_count": 12,
   "metadata": {},
   "outputs": [
    {
     "name": "stdout",
     "output_type": "stream",
     "text": [
      "There are 816 tie games in the dataset.\n"
     ]
    }
   ],
   "source": [
    "ties = (data_df_1.winner_id == 'Tie').sum()\n",
    "print(f'There are {ties} tie games in the dataset.')"
   ]
  },
  {
   "cell_type": "markdown",
   "metadata": {},
   "source": [
    "## Player 1 Win?"
   ]
  },
  {
   "cell_type": "code",
   "execution_count": 13,
   "metadata": {},
   "outputs": [
    {
     "name": "stdout",
     "output_type": "stream",
     "text": [
      "Player One win rate: 56.83%\n"
     ]
    }
   ],
   "source": [
    "data_df_1['player_one_win'] = data_df_1.winner_id == data_df_1.player_one_id\n",
    "player_one_win_rate = data_df_1.player_one_win.mean()\n",
    "print(f'Player One win rate: {player_one_win_rate:.2%}')"
   ]
  },
  {
   "cell_type": "markdown",
   "metadata": {},
   "source": [
    "## Best Bot?"
   ]
  },
  {
   "cell_type": "code",
   "execution_count": 14,
   "metadata": {},
   "outputs": [
    {
     "name": "stderr",
     "output_type": "stream",
     "text": [
      "C:\\Users\\User\\AppData\\Local\\Temp\\ipykernel_13488\\2878580599.py:13: RuntimeWarning: invalid value encountered in scalar divide\n",
      "  row_player_wins = games_df.winner_id.eq(row_player).sum() / games_played\n"
     ]
    },
    {
     "data": {
      "text/html": [
       "<div>\n",
       "<style scoped>\n",
       "    .dataframe tbody tr th:only-of-type {\n",
       "        vertical-align: middle;\n",
       "    }\n",
       "\n",
       "    .dataframe tbody tr th {\n",
       "        vertical-align: top;\n",
       "    }\n",
       "\n",
       "    .dataframe thead th {\n",
       "        text-align: right;\n",
       "    }\n",
       "</style>\n",
       "<table border=\"1\" class=\"dataframe\">\n",
       "  <thead>\n",
       "    <tr style=\"text-align: right;\">\n",
       "      <th></th>\n",
       "      <th>random_naive</th>\n",
       "      <th>random_not_stupid</th>\n",
       "      <th>monte_carlo_50</th>\n",
       "      <th>monte_carlo_51</th>\n",
       "      <th>monte_carlo_100</th>\n",
       "      <th>monte_carlo_150</th>\n",
       "      <th>monte_carlo_200</th>\n",
       "      <th>monte_carlo_500</th>\n",
       "      <th>monte_carlo_1000</th>\n",
       "    </tr>\n",
       "  </thead>\n",
       "  <tbody>\n",
       "    <tr>\n",
       "      <th>random_naive</th>\n",
       "      <td>NaN</td>\n",
       "      <td>0.039216</td>\n",
       "      <td>0.0</td>\n",
       "      <td>NaN</td>\n",
       "      <td>0.0</td>\n",
       "      <td>NaN</td>\n",
       "      <td>0.0</td>\n",
       "      <td>0.0</td>\n",
       "      <td>0.0</td>\n",
       "    </tr>\n",
       "    <tr>\n",
       "      <th>random_not_stupid</th>\n",
       "      <td>0.960784</td>\n",
       "      <td>NaN</td>\n",
       "      <td>0.166667</td>\n",
       "      <td>NaN</td>\n",
       "      <td>0.132653</td>\n",
       "      <td>NaN</td>\n",
       "      <td>0.091954</td>\n",
       "      <td>0.095238</td>\n",
       "      <td>0.10084</td>\n",
       "    </tr>\n",
       "    <tr>\n",
       "      <th>monte_carlo_50</th>\n",
       "      <td>1.0</td>\n",
       "      <td>0.777778</td>\n",
       "      <td>NaN</td>\n",
       "      <td>0.491961</td>\n",
       "      <td>0.437301</td>\n",
       "      <td>0.389625</td>\n",
       "      <td>0.369193</td>\n",
       "      <td>0.318841</td>\n",
       "      <td>0.335121</td>\n",
       "    </tr>\n",
       "    <tr>\n",
       "      <th>monte_carlo_51</th>\n",
       "      <td>NaN</td>\n",
       "      <td>NaN</td>\n",
       "      <td>0.489531</td>\n",
       "      <td>NaN</td>\n",
       "      <td>0.425076</td>\n",
       "      <td>0.38565</td>\n",
       "      <td>0.386765</td>\n",
       "      <td>0.344239</td>\n",
       "      <td>0.325077</td>\n",
       "    </tr>\n",
       "    <tr>\n",
       "      <th>monte_carlo_100</th>\n",
       "      <td>1.0</td>\n",
       "      <td>0.846939</td>\n",
       "      <td>0.547652</td>\n",
       "      <td>0.565749</td>\n",
       "      <td>NaN</td>\n",
       "      <td>0.48449</td>\n",
       "      <td>0.455746</td>\n",
       "      <td>0.386889</td>\n",
       "      <td>0.416133</td>\n",
       "    </tr>\n",
       "    <tr>\n",
       "      <th>monte_carlo_150</th>\n",
       "      <td>NaN</td>\n",
       "      <td>NaN</td>\n",
       "      <td>0.599399</td>\n",
       "      <td>0.602392</td>\n",
       "      <td>0.503693</td>\n",
       "      <td>NaN</td>\n",
       "      <td>0.472663</td>\n",
       "      <td>0.436416</td>\n",
       "      <td>0.439759</td>\n",
       "    </tr>\n",
       "    <tr>\n",
       "      <th>monte_carlo_200</th>\n",
       "      <td>1.0</td>\n",
       "      <td>0.908046</td>\n",
       "      <td>0.612469</td>\n",
       "      <td>0.595588</td>\n",
       "      <td>0.531044</td>\n",
       "      <td>0.514253</td>\n",
       "      <td>NaN</td>\n",
       "      <td>0.467089</td>\n",
       "      <td>0.455243</td>\n",
       "    </tr>\n",
       "    <tr>\n",
       "      <th>monte_carlo_500</th>\n",
       "      <td>1.0</td>\n",
       "      <td>0.895238</td>\n",
       "      <td>0.673913</td>\n",
       "      <td>0.645804</td>\n",
       "      <td>0.604113</td>\n",
       "      <td>0.556358</td>\n",
       "      <td>0.525316</td>\n",
       "      <td>NaN</td>\n",
       "      <td>0.528662</td>\n",
       "    </tr>\n",
       "    <tr>\n",
       "      <th>monte_carlo_1000</th>\n",
       "      <td>1.0</td>\n",
       "      <td>0.89916</td>\n",
       "      <td>0.658177</td>\n",
       "      <td>0.664087</td>\n",
       "      <td>0.580026</td>\n",
       "      <td>0.554217</td>\n",
       "      <td>0.533248</td>\n",
       "      <td>0.470064</td>\n",
       "      <td>NaN</td>\n",
       "    </tr>\n",
       "  </tbody>\n",
       "</table>\n",
       "</div>"
      ],
      "text/plain": [
       "                  random_naive random_not_stupid monte_carlo_50  \\\n",
       "random_naive               NaN          0.039216            0.0   \n",
       "random_not_stupid     0.960784               NaN       0.166667   \n",
       "monte_carlo_50             1.0          0.777778            NaN   \n",
       "monte_carlo_51             NaN               NaN       0.489531   \n",
       "monte_carlo_100            1.0          0.846939       0.547652   \n",
       "monte_carlo_150            NaN               NaN       0.599399   \n",
       "monte_carlo_200            1.0          0.908046       0.612469   \n",
       "monte_carlo_500            1.0          0.895238       0.673913   \n",
       "monte_carlo_1000           1.0           0.89916       0.658177   \n",
       "\n",
       "                  monte_carlo_51 monte_carlo_100 monte_carlo_150  \\\n",
       "random_naive                 NaN             0.0             NaN   \n",
       "random_not_stupid            NaN        0.132653             NaN   \n",
       "monte_carlo_50          0.491961        0.437301        0.389625   \n",
       "monte_carlo_51               NaN        0.425076         0.38565   \n",
       "monte_carlo_100         0.565749             NaN         0.48449   \n",
       "monte_carlo_150         0.602392        0.503693             NaN   \n",
       "monte_carlo_200         0.595588        0.531044        0.514253   \n",
       "monte_carlo_500         0.645804        0.604113        0.556358   \n",
       "monte_carlo_1000        0.664087        0.580026        0.554217   \n",
       "\n",
       "                  monte_carlo_200 monte_carlo_500 monte_carlo_1000  \n",
       "random_naive                  0.0             0.0              0.0  \n",
       "random_not_stupid        0.091954        0.095238          0.10084  \n",
       "monte_carlo_50           0.369193        0.318841         0.335121  \n",
       "monte_carlo_51           0.386765        0.344239         0.325077  \n",
       "monte_carlo_100          0.455746        0.386889         0.416133  \n",
       "monte_carlo_150          0.472663        0.436416         0.439759  \n",
       "monte_carlo_200               NaN        0.467089         0.455243  \n",
       "monte_carlo_500          0.525316             NaN         0.528662  \n",
       "monte_carlo_1000         0.533248        0.470064              NaN  "
      ]
     },
     "execution_count": 14,
     "metadata": {},
     "output_type": "execute_result"
    }
   ],
   "source": [
    "games_played_df = pd.DataFrame(columns=unique_players, index=unique_players)\n",
    "win_rates_df = pd.DataFrame(columns=unique_players, index=unique_players)\n",
    "\n",
    "# Iterate through each each cell in the matrix and calculate the win rate of the row player against the column player\n",
    "for row_player in unique_players:\n",
    "    for col_player in unique_players:\n",
    "        if row_player == col_player:\n",
    "            continue\n",
    "\n",
    "        mask = (data_df_1[row_player] & data_df_1[col_player])\n",
    "        games_df = data_df_1[mask]\n",
    "        games_played = len(games_df)\n",
    "        row_player_wins = games_df.winner_id.eq(row_player).sum() / games_played \n",
    "        win_rates_df.loc[row_player, col_player] = row_player_wins\n",
    "        games_played_df.loc[row_player, col_player] = games_played\n",
    "\n",
    "win_rates_df\n",
    "# games_played_df"
   ]
  },
  {
   "cell_type": "code",
   "execution_count": 15,
   "metadata": {},
   "outputs": [
    {
     "data": {
      "text/html": [
       "<div>\n",
       "<style scoped>\n",
       "    .dataframe tbody tr th:only-of-type {\n",
       "        vertical-align: middle;\n",
       "    }\n",
       "\n",
       "    .dataframe tbody tr th {\n",
       "        vertical-align: top;\n",
       "    }\n",
       "\n",
       "    .dataframe thead th {\n",
       "        text-align: right;\n",
       "    }\n",
       "</style>\n",
       "<table border=\"1\" class=\"dataframe\">\n",
       "  <thead>\n",
       "    <tr style=\"text-align: right;\">\n",
       "      <th></th>\n",
       "      <th>random_naive</th>\n",
       "      <th>random_not_stupid</th>\n",
       "      <th>monte_carlo_50</th>\n",
       "      <th>monte_carlo_51</th>\n",
       "      <th>monte_carlo_100</th>\n",
       "      <th>monte_carlo_150</th>\n",
       "      <th>monte_carlo_200</th>\n",
       "      <th>monte_carlo_500</th>\n",
       "      <th>monte_carlo_1000</th>\n",
       "    </tr>\n",
       "  </thead>\n",
       "  <tbody>\n",
       "    <tr>\n",
       "      <th>random_naive</th>\n",
       "      <td>NaN</td>\n",
       "      <td>102</td>\n",
       "      <td>83</td>\n",
       "      <td>0</td>\n",
       "      <td>84</td>\n",
       "      <td>0</td>\n",
       "      <td>105</td>\n",
       "      <td>68</td>\n",
       "      <td>112</td>\n",
       "    </tr>\n",
       "    <tr>\n",
       "      <th>random_not_stupid</th>\n",
       "      <td>102</td>\n",
       "      <td>NaN</td>\n",
       "      <td>90</td>\n",
       "      <td>0</td>\n",
       "      <td>98</td>\n",
       "      <td>0</td>\n",
       "      <td>87</td>\n",
       "      <td>105</td>\n",
       "      <td>119</td>\n",
       "    </tr>\n",
       "    <tr>\n",
       "      <th>monte_carlo_50</th>\n",
       "      <td>83</td>\n",
       "      <td>90</td>\n",
       "      <td>NaN</td>\n",
       "      <td>10698</td>\n",
       "      <td>4386</td>\n",
       "      <td>9658</td>\n",
       "      <td>818</td>\n",
       "      <td>828</td>\n",
       "      <td>746</td>\n",
       "    </tr>\n",
       "    <tr>\n",
       "      <th>monte_carlo_51</th>\n",
       "      <td>0</td>\n",
       "      <td>0</td>\n",
       "      <td>10698</td>\n",
       "      <td>NaN</td>\n",
       "      <td>654</td>\n",
       "      <td>669</td>\n",
       "      <td>680</td>\n",
       "      <td>703</td>\n",
       "      <td>646</td>\n",
       "    </tr>\n",
       "    <tr>\n",
       "      <th>monte_carlo_100</th>\n",
       "      <td>84</td>\n",
       "      <td>98</td>\n",
       "      <td>4386</td>\n",
       "      <td>654</td>\n",
       "      <td>NaN</td>\n",
       "      <td>677</td>\n",
       "      <td>757</td>\n",
       "      <td>778</td>\n",
       "      <td>781</td>\n",
       "    </tr>\n",
       "    <tr>\n",
       "      <th>monte_carlo_150</th>\n",
       "      <td>0</td>\n",
       "      <td>0</td>\n",
       "      <td>9658</td>\n",
       "      <td>669</td>\n",
       "      <td>677</td>\n",
       "      <td>NaN</td>\n",
       "      <td>24381</td>\n",
       "      <td>692</td>\n",
       "      <td>664</td>\n",
       "    </tr>\n",
       "    <tr>\n",
       "      <th>monte_carlo_200</th>\n",
       "      <td>105</td>\n",
       "      <td>87</td>\n",
       "      <td>818</td>\n",
       "      <td>680</td>\n",
       "      <td>757</td>\n",
       "      <td>24381</td>\n",
       "      <td>NaN</td>\n",
       "      <td>790</td>\n",
       "      <td>782</td>\n",
       "    </tr>\n",
       "    <tr>\n",
       "      <th>monte_carlo_500</th>\n",
       "      <td>68</td>\n",
       "      <td>105</td>\n",
       "      <td>828</td>\n",
       "      <td>703</td>\n",
       "      <td>778</td>\n",
       "      <td>692</td>\n",
       "      <td>790</td>\n",
       "      <td>NaN</td>\n",
       "      <td>785</td>\n",
       "    </tr>\n",
       "    <tr>\n",
       "      <th>monte_carlo_1000</th>\n",
       "      <td>112</td>\n",
       "      <td>119</td>\n",
       "      <td>746</td>\n",
       "      <td>646</td>\n",
       "      <td>781</td>\n",
       "      <td>664</td>\n",
       "      <td>782</td>\n",
       "      <td>785</td>\n",
       "      <td>NaN</td>\n",
       "    </tr>\n",
       "  </tbody>\n",
       "</table>\n",
       "</div>"
      ],
      "text/plain": [
       "                  random_naive random_not_stupid monte_carlo_50  \\\n",
       "random_naive               NaN               102             83   \n",
       "random_not_stupid          102               NaN             90   \n",
       "monte_carlo_50              83                90            NaN   \n",
       "monte_carlo_51               0                 0          10698   \n",
       "monte_carlo_100             84                98           4386   \n",
       "monte_carlo_150              0                 0           9658   \n",
       "monte_carlo_200            105                87            818   \n",
       "monte_carlo_500             68               105            828   \n",
       "monte_carlo_1000           112               119            746   \n",
       "\n",
       "                  monte_carlo_51 monte_carlo_100 monte_carlo_150  \\\n",
       "random_naive                   0              84               0   \n",
       "random_not_stupid              0              98               0   \n",
       "monte_carlo_50             10698            4386            9658   \n",
       "monte_carlo_51               NaN             654             669   \n",
       "monte_carlo_100              654             NaN             677   \n",
       "monte_carlo_150              669             677             NaN   \n",
       "monte_carlo_200              680             757           24381   \n",
       "monte_carlo_500              703             778             692   \n",
       "monte_carlo_1000             646             781             664   \n",
       "\n",
       "                  monte_carlo_200 monte_carlo_500 monte_carlo_1000  \n",
       "random_naive                  105              68              112  \n",
       "random_not_stupid              87             105              119  \n",
       "monte_carlo_50                818             828              746  \n",
       "monte_carlo_51                680             703              646  \n",
       "monte_carlo_100               757             778              781  \n",
       "monte_carlo_150             24381             692              664  \n",
       "monte_carlo_200               NaN             790              782  \n",
       "monte_carlo_500               790             NaN              785  \n",
       "monte_carlo_1000              782             785              NaN  "
      ]
     },
     "execution_count": 15,
     "metadata": {},
     "output_type": "execute_result"
    }
   ],
   "source": [
    "games_played_df"
   ]
  },
  {
   "cell_type": "code",
   "execution_count": 16,
   "metadata": {},
   "outputs": [],
   "source": [
    "# xw.view(win_rates_df)\n"
   ]
  },
  {
   "cell_type": "code",
   "execution_count": 17,
   "metadata": {},
   "outputs": [],
   "source": [
    "# xw.view(games_played_df)"
   ]
  },
  {
   "cell_type": "code",
   "execution_count": null,
   "metadata": {},
   "outputs": [],
   "source": []
  },
  {
   "cell_type": "code",
   "execution_count": null,
   "metadata": {},
   "outputs": [],
   "source": []
  },
  {
   "cell_type": "code",
   "execution_count": null,
   "metadata": {},
   "outputs": [],
   "source": []
  },
  {
   "cell_type": "code",
   "execution_count": null,
   "metadata": {},
   "outputs": [],
   "source": []
  },
  {
   "cell_type": "code",
   "execution_count": null,
   "metadata": {},
   "outputs": [],
   "source": []
  },
  {
   "cell_type": "code",
   "execution_count": null,
   "metadata": {},
   "outputs": [],
   "source": []
  },
  {
   "cell_type": "code",
   "execution_count": null,
   "metadata": {},
   "outputs": [],
   "source": []
  },
  {
   "cell_type": "code",
   "execution_count": null,
   "metadata": {},
   "outputs": [],
   "source": []
  },
  {
   "cell_type": "code",
   "execution_count": null,
   "metadata": {},
   "outputs": [],
   "source": []
  }
 ],
 "metadata": {
  "kernelspec": {
   "display_name": "ConnectFour-nYnq5-EH",
   "language": "python",
   "name": "python3"
  },
  "language_info": {
   "codemirror_mode": {
    "name": "ipython",
    "version": 3
   },
   "file_extension": ".py",
   "mimetype": "text/x-python",
   "name": "python",
   "nbconvert_exporter": "python",
   "pygments_lexer": "ipython3",
   "version": "3.12.4"
  }
 },
 "nbformat": 4,
 "nbformat_minor": 2
}
