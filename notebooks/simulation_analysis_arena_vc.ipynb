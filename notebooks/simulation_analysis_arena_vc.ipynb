{
 "cells": [
  {
   "cell_type": "code",
   "execution_count": 7,
   "metadata": {},
   "outputs": [],
   "source": [
    "import pandas as pd\n",
    "from pathlib import Path\n",
    "import json\n",
    "import matplotlib.pyplot as plt\n",
    "import numpy as np\n",
    "import seaborn as sns; sns.set_theme()\n",
    "import sys\n",
    "import tensorflow as tf\n",
    "\n",
    "# Set the main project folder to python path so we can import our homemade modules\n",
    "PROJECT_FOLDER = Path().absolute().parent\n",
    "sys.path.append(str(PROJECT_FOLDER))\n",
    "\n",
    "from game_mechanics.engine import DataBase\n",
    "import game_mechanics as gm "
   ]
  },
  {
   "cell_type": "code",
   "execution_count": null,
   "metadata": {},
   "outputs": [],
   "source": []
  },
  {
   "cell_type": "code",
   "execution_count": null,
   "metadata": {},
   "outputs": [],
   "source": []
  },
  {
   "cell_type": "markdown",
   "metadata": {},
   "source": [
    "# Data Load"
   ]
  },
  {
   "cell_type": "code",
   "execution_count": 4,
   "metadata": {},
   "outputs": [
    {
     "name": "stdout",
     "output_type": "stream",
     "text": [
      "Data size: 62626\n"
     ]
    }
   ],
   "source": [
    "DATA_FOLDER = PROJECT_FOLDER / 'data'\n",
    "DATA_FILE = DATA_FOLDER / 'master_db.json'\n",
    "db = DataBase(DATA_FILE)\n",
    "print(f'Data size: {len(db.data)}')"
   ]
  },
  {
   "cell_type": "code",
   "execution_count": 5,
   "metadata": {},
   "outputs": [
    {
     "name": "stdout",
     "output_type": "stream",
     "text": [
      "(62626, 9)\n"
     ]
    },
    {
     "data": {
      "text/html": [
       "<div>\n",
       "<style scoped>\n",
       "    .dataframe tbody tr th:only-of-type {\n",
       "        vertical-align: middle;\n",
       "    }\n",
       "\n",
       "    .dataframe tbody tr th {\n",
       "        vertical-align: top;\n",
       "    }\n",
       "\n",
       "    .dataframe thead th {\n",
       "        text-align: right;\n",
       "    }\n",
       "</style>\n",
       "<table border=\"1\" class=\"dataframe\">\n",
       "  <thead>\n",
       "    <tr style=\"text-align: right;\">\n",
       "      <th></th>\n",
       "      <th>game_id</th>\n",
       "      <th>player_one_id</th>\n",
       "      <th>player_two_id</th>\n",
       "      <th>winner_id</th>\n",
       "      <th>first_mover_id</th>\n",
       "      <th>moves</th>\n",
       "      <th>turns</th>\n",
       "      <th>start_time</th>\n",
       "      <th>end_time</th>\n",
       "    </tr>\n",
       "  </thead>\n",
       "  <tbody>\n",
       "    <tr>\n",
       "      <th>0</th>\n",
       "      <td>1731877338926014-313026-dfd03d46</td>\n",
       "      <td>monte_carlo_50</td>\n",
       "      <td>monte_carlo_200</td>\n",
       "      <td>monte_carlo_200</td>\n",
       "      <td>monte_carlo_50</td>\n",
       "      <td>[2, 5, 2, 4, 0, 3, 6, 2, 4, 3, 3, 5, 3, 5, 5, ...</td>\n",
       "      <td>42</td>\n",
       "      <td>NaN</td>\n",
       "      <td>NaN</td>\n",
       "    </tr>\n",
       "    <tr>\n",
       "      <th>1</th>\n",
       "      <td>1731877383226884-899336-1e5dcfb5</td>\n",
       "      <td>random_naive</td>\n",
       "      <td>monte_carlo_500</td>\n",
       "      <td>monte_carlo_500</td>\n",
       "      <td>random_naive</td>\n",
       "      <td>[3, 3, 6, 3, 1, 3, 2, 3]</td>\n",
       "      <td>8</td>\n",
       "      <td>NaN</td>\n",
       "      <td>NaN</td>\n",
       "    </tr>\n",
       "  </tbody>\n",
       "</table>\n",
       "</div>"
      ],
      "text/plain": [
       "                            game_id   player_one_id    player_two_id  \\\n",
       "0  1731877338926014-313026-dfd03d46  monte_carlo_50  monte_carlo_200   \n",
       "1  1731877383226884-899336-1e5dcfb5    random_naive  monte_carlo_500   \n",
       "\n",
       "         winner_id  first_mover_id  \\\n",
       "0  monte_carlo_200  monte_carlo_50   \n",
       "1  monte_carlo_500    random_naive   \n",
       "\n",
       "                                               moves  turns start_time  \\\n",
       "0  [2, 5, 2, 4, 0, 3, 6, 2, 4, 3, 3, 5, 3, 5, 5, ...     42        NaN   \n",
       "1                           [3, 3, 6, 3, 1, 3, 2, 3]      8        NaN   \n",
       "\n",
       "  end_time  \n",
       "0      NaN  \n",
       "1      NaN  "
      ]
     },
     "execution_count": 5,
     "metadata": {},
     "output_type": "execute_result"
    }
   ],
   "source": [
    "raw_data = pd.DataFrame(db.data)\n",
    "print(raw_data.shape)\n",
    "raw_data.head(2)"
   ]
  },
  {
   "cell_type": "markdown",
   "metadata": {},
   "source": [
    "# Data Clean"
   ]
  },
  {
   "cell_type": "code",
   "execution_count": 6,
   "metadata": {},
   "outputs": [
    {
     "name": "stdout",
     "output_type": "stream",
     "text": [
      "(62626, 10)\n"
     ]
    },
    {
     "data": {
      "text/html": [
       "<div>\n",
       "<style scoped>\n",
       "    .dataframe tbody tr th:only-of-type {\n",
       "        vertical-align: middle;\n",
       "    }\n",
       "\n",
       "    .dataframe tbody tr th {\n",
       "        vertical-align: top;\n",
       "    }\n",
       "\n",
       "    .dataframe thead th {\n",
       "        text-align: right;\n",
       "    }\n",
       "</style>\n",
       "<table border=\"1\" class=\"dataframe\">\n",
       "  <thead>\n",
       "    <tr style=\"text-align: right;\">\n",
       "      <th></th>\n",
       "      <th>game_id</th>\n",
       "      <th>player_one_id</th>\n",
       "      <th>player_two_id</th>\n",
       "      <th>winner_id</th>\n",
       "      <th>first_mover_id</th>\n",
       "      <th>moves</th>\n",
       "      <th>turns</th>\n",
       "      <th>start_time</th>\n",
       "      <th>end_time</th>\n",
       "      <th>player_one_win</th>\n",
       "    </tr>\n",
       "  </thead>\n",
       "  <tbody>\n",
       "    <tr>\n",
       "      <th>0</th>\n",
       "      <td>1731877338926014-313026-dfd03d46</td>\n",
       "      <td>monte_carlo_50</td>\n",
       "      <td>monte_carlo_200</td>\n",
       "      <td>monte_carlo_200</td>\n",
       "      <td>monte_carlo_50</td>\n",
       "      <td>[2, 5, 2, 4, 0, 3, 6, 2, 4, 3, 3, 5, 3, 5, 5, ...</td>\n",
       "      <td>42</td>\n",
       "      <td>NaN</td>\n",
       "      <td>NaN</td>\n",
       "      <td>False</td>\n",
       "    </tr>\n",
       "    <tr>\n",
       "      <th>1</th>\n",
       "      <td>1731877383226884-899336-1e5dcfb5</td>\n",
       "      <td>random_naive</td>\n",
       "      <td>monte_carlo_500</td>\n",
       "      <td>monte_carlo_500</td>\n",
       "      <td>random_naive</td>\n",
       "      <td>[3, 3, 6, 3, 1, 3, 2, 3]</td>\n",
       "      <td>8</td>\n",
       "      <td>NaN</td>\n",
       "      <td>NaN</td>\n",
       "      <td>False</td>\n",
       "    </tr>\n",
       "  </tbody>\n",
       "</table>\n",
       "</div>"
      ],
      "text/plain": [
       "                            game_id   player_one_id    player_two_id  \\\n",
       "0  1731877338926014-313026-dfd03d46  monte_carlo_50  monte_carlo_200   \n",
       "1  1731877383226884-899336-1e5dcfb5    random_naive  monte_carlo_500   \n",
       "\n",
       "         winner_id  first_mover_id  \\\n",
       "0  monte_carlo_200  monte_carlo_50   \n",
       "1  monte_carlo_500    random_naive   \n",
       "\n",
       "                                               moves  turns start_time  \\\n",
       "0  [2, 5, 2, 4, 0, 3, 6, 2, 4, 3, 3, 5, 3, 5, 5, ...     42        NaN   \n",
       "1                           [3, 3, 6, 3, 1, 3, 2, 3]      8        NaN   \n",
       "\n",
       "  end_time  player_one_win  \n",
       "0      NaN           False  \n",
       "1      NaN           False  "
      ]
     },
     "execution_count": 6,
     "metadata": {},
     "output_type": "execute_result"
    }
   ],
   "source": [
    "data_df_1 = raw_data.copy()\n",
    "\n",
    "# Add indicator variable if player one is the winner\n",
    "data_df_1['player_one_win'] = data_df_1.winner_id == data_df_1.player_one_id\n",
    "\n",
    "print(data_df_1.shape)\n",
    "data_df_1.head(2)"
   ]
  },
  {
   "cell_type": "code",
   "execution_count": null,
   "metadata": {},
   "outputs": [
    {
     "data": {
      "text/html": [
       "<div>\n",
       "<style scoped>\n",
       "    .dataframe tbody tr th:only-of-type {\n",
       "        vertical-align: middle;\n",
       "    }\n",
       "\n",
       "    .dataframe tbody tr th {\n",
       "        vertical-align: top;\n",
       "    }\n",
       "\n",
       "    .dataframe thead th {\n",
       "        text-align: right;\n",
       "    }\n",
       "</style>\n",
       "<table border=\"1\" class=\"dataframe\">\n",
       "  <thead>\n",
       "    <tr style=\"text-align: right;\">\n",
       "      <th></th>\n",
       "      <th>game_id</th>\n",
       "      <th>player_one_id</th>\n",
       "      <th>player_two_id</th>\n",
       "      <th>winner_id</th>\n",
       "      <th>first_mover_id</th>\n",
       "      <th>moves</th>\n",
       "      <th>turns</th>\n",
       "      <th>start_time</th>\n",
       "      <th>end_time</th>\n",
       "      <th>player_one_win</th>\n",
       "    </tr>\n",
       "  </thead>\n",
       "  <tbody>\n",
       "    <tr>\n",
       "      <th>62624</th>\n",
       "      <td>1732806409274295-273747-25fb7183</td>\n",
       "      <td>monte_carlo_100</td>\n",
       "      <td>monte_carlo_51</td>\n",
       "      <td>monte_carlo_100</td>\n",
       "      <td>monte_carlo_100</td>\n",
       "      <td>[3, 3, 2, 1, 4, 5, 2, 2, 3, 0, 6, 1, 3, 1, 1, ...</td>\n",
       "      <td>25</td>\n",
       "      <td>2024-11-28T09:06:49.274295</td>\n",
       "      <td>2024-11-28T09:06:55.535230</td>\n",
       "      <td>True</td>\n",
       "    </tr>\n",
       "    <tr>\n",
       "      <th>62625</th>\n",
       "      <td>1732806415536368-218120-39e6c59e</td>\n",
       "      <td>monte_carlo_200</td>\n",
       "      <td>monte_carlo_50</td>\n",
       "      <td>monte_carlo_200</td>\n",
       "      <td>monte_carlo_200</td>\n",
       "      <td>[3, 1, 4, 3, 5, 2, 6]</td>\n",
       "      <td>7</td>\n",
       "      <td>2024-11-28T09:06:55.536368</td>\n",
       "      <td>2024-11-28T09:06:59.202924</td>\n",
       "      <td>True</td>\n",
       "    </tr>\n",
       "  </tbody>\n",
       "</table>\n",
       "</div>"
      ],
      "text/plain": [
       "                                game_id    player_one_id   player_two_id  \\\n",
       "62624  1732806409274295-273747-25fb7183  monte_carlo_100  monte_carlo_51   \n",
       "62625  1732806415536368-218120-39e6c59e  monte_carlo_200  monte_carlo_50   \n",
       "\n",
       "             winner_id   first_mover_id  \\\n",
       "62624  monte_carlo_100  monte_carlo_100   \n",
       "62625  monte_carlo_200  monte_carlo_200   \n",
       "\n",
       "                                                   moves  turns  \\\n",
       "62624  [3, 3, 2, 1, 4, 5, 2, 2, 3, 0, 6, 1, 3, 1, 1, ...     25   \n",
       "62625                              [3, 1, 4, 3, 5, 2, 6]      7   \n",
       "\n",
       "                       start_time                    end_time  player_one_win  \n",
       "62624  2024-11-28T09:06:49.274295  2024-11-28T09:06:55.535230            True  \n",
       "62625  2024-11-28T09:06:55.536368  2024-11-28T09:06:59.202924            True  "
      ]
     },
     "metadata": {},
     "output_type": "display_data"
    }
   ],
   "source": [
    "data_df_1.tail(2)"
   ]
  },
  {
   "cell_type": "markdown",
   "metadata": {},
   "source": [
    "## Quick Game Validation\n",
    "Pick a game to make sure it's gameplay sequence looks legit."
   ]
  },
  {
   "cell_type": "code",
   "execution_count": 12,
   "metadata": {},
   "outputs": [],
   "source": [
    "# # Random Game\n",
    "# random_int = np.random.randint(0, len(data_df_1))\n",
    "# game = data_df_1.iloc[random_int]\n",
    "\n",
    "# # Or manual override game\n",
    "# game = data_df_1.iloc[59620]\n",
    "\n",
    "# # Grab the moves from this game and create a sequence of boards from those moves\n",
    "# boards = gm.Board.make_boards_from_moves(game.moves)\n",
    "\n",
    "# # Display the game unfolding:\n",
    "# print(f'Player 1: {game.player_one_id} vs Player 2: {game.player_two_id}. Winner: {game.winner_id}. (Game Int: {game.name})')\n",
    "\n",
    "# for board in boards:\n",
    "#     board.display_board()"
   ]
  },
  {
   "cell_type": "code",
   "execution_count": null,
   "metadata": {},
   "outputs": [],
   "source": []
  },
  {
   "cell_type": "markdown",
   "metadata": {},
   "source": [
    "# EDA"
   ]
  },
  {
   "cell_type": "code",
   "execution_count": 20,
   "metadata": {},
   "outputs": [
    {
     "name": "stdout",
     "output_type": "stream",
     "text": [
      "There are 62626 games in the dataset.\n"
     ]
    }
   ],
   "source": [
    "print(f'There are {len(data_df_1)} games in the dataset.')"
   ]
  },
  {
   "cell_type": "code",
   "execution_count": null,
   "metadata": {},
   "outputs": [
    {
     "name": "stdout",
     "output_type": "stream",
     "text": [
      "Total moves: 1,139,648\n"
     ]
    }
   ],
   "source": [
    "data_df_1['num_moves'] = data_df_1.moves.apply(len)\n",
    "total_moves = data_df_1.num_moves.sum()\n",
    "print(f'Total moves: {total_moves:,}')"
   ]
  },
  {
   "cell_type": "markdown",
   "metadata": {},
   "source": [
    "## Playtime Frequency"
   ]
  },
  {
   "cell_type": "code",
   "execution_count": 29,
   "metadata": {},
   "outputs": [],
   "source": [
    "unique_players = [\n",
    "    'random_naive',\n",
    "    'random_not_stupid',    \n",
    "    'monte_carlo_50',\n",
    "    'monte_carlo_51',\n",
    "    'monte_carlo_100',\n",
    "    'monte_carlo_150',\n",
    "    'monte_carlo_200',\n",
    "    'monte_carlo_500',\n",
    "    'monte_carlo_1000',\n",
    "]\n",
    "\n",
    "data_set_players = sorted(list(set(data_df_1.player_one_id) | set(data_df_1.player_two_id)))\n",
    "# Make sure the data sets overlap completely, print any issues\n",
    "up_set = set(unique_players)\n",
    "d_set = set(data_set_players)\n",
    "assert up_set == d_set, f'Unique Players: {up_set} \\n Data Set Players: {d_set}'"
   ]
  },
  {
   "cell_type": "code",
   "execution_count": 33,
   "metadata": {},
   "outputs": [
    {
     "data": {
      "text/plain": [
       "monte_carlo_150      36741\n",
       "monte_carlo_200      28400\n",
       "monte_carlo_50       27307\n",
       "monte_carlo_51       14050\n",
       "monte_carlo_100       8215\n",
       "monte_carlo_500       4749\n",
       "monte_carlo_1000      4635\n",
       "random_not_stupid      601\n",
       "random_naive           554\n",
       "dtype: int64"
      ]
     },
     "execution_count": 33,
     "metadata": {},
     "output_type": "execute_result"
    }
   ],
   "source": [
    "# Add a indicator column onto the dataframe indicating if that player played in the game\n",
    "for player in unique_players:\n",
    "    data_df_1[player] = (data_df_1.player_one_id == player) | (data_df_1.player_two_id == player)\n",
    "\n",
    "play_counts = data_df_1[unique_players].sum()\n",
    "play_counts = play_counts.sort_values(ascending=False)\n",
    "play_counts"
   ]
  },
  {
   "cell_type": "code",
   "execution_count": 34,
   "metadata": {},
   "outputs": [
    {
     "data": {
      "text/plain": [
       "<Axes: title={'center': 'Number of Games Played by Each Player'}>"
      ]
     },
     "execution_count": 34,
     "metadata": {},
     "output_type": "execute_result"
    },
    {
     "data": {
      "image/png": "[encoded data removed]",
      "text/plain": [
       "<Figure size 1000x500 with 1 Axes>"
      ]
     },
     "metadata": {},
     "output_type": "display_data"
    }
   ],
   "source": [
    "play_counts.plot(kind='bar', figsize=(10, 5), title='Number of Games Played by Each Player')"
   ]
  },
  {
   "cell_type": "code",
   "execution_count": null,
   "metadata": {},
   "outputs": [],
   "source": []
  },
  {
   "cell_type": "code",
   "execution_count": null,
   "metadata": {},
   "outputs": [],
   "source": []
  },
  {
   "cell_type": "code",
   "execution_count": null,
   "metadata": {},
   "outputs": [],
   "source": []
  },
  {
   "cell_type": "code",
   "execution_count": null,
   "metadata": {},
   "outputs": [],
   "source": []
  },
  {
   "cell_type": "code",
   "execution_count": null,
   "metadata": {},
   "outputs": [],
   "source": []
  },
  {
   "cell_type": "code",
   "execution_count": null,
   "metadata": {},
   "outputs": [],
   "source": []
  },
  {
   "cell_type": "markdown",
   "metadata": {},
   "source": [
    "# Old"
   ]
  },
  {
   "cell_type": "code",
   "execution_count": null,
   "metadata": {},
   "outputs": [],
   "source": []
  },
  {
   "cell_type": "markdown",
   "metadata": {},
   "source": [
    "# Analysis"
   ]
  },
  {
   "cell_type": "code",
   "execution_count": 4,
   "metadata": {},
   "outputs": [],
   "source": [
    "data_df = raw_data_df.copy()\n",
    "data_df = data_df.drop(columns=['game_id'])"
   ]
  },
  {
   "cell_type": "code",
   "execution_count": 5,
   "metadata": {},
   "outputs": [
    {
     "data": {
      "text/plain": [
       "winner_id\n",
       "monte_carlo_200      32.015971\n",
       "monte_carlo_150      28.452989\n",
       "monte_carlo_50       17.214720\n",
       "monte_carlo_51       12.494596\n",
       "monte_carlo_100       5.912871\n",
       "Tie                   1.452150\n",
       "monte_carlo_1000      1.027441\n",
       "monte_carlo_500       1.022354\n",
       "random_not_stupid     0.396735\n",
       "random_naive          0.010173\n",
       "Name: proportion, dtype: float64"
      ]
     },
     "execution_count": 5,
     "metadata": {},
     "output_type": "execute_result"
    }
   ],
   "source": [
    "# Who won the most games? in %\n",
    "data_df['winner_id'].value_counts(normalize=True) * 100"
   ]
  },
  {
   "cell_type": "code",
   "execution_count": null,
   "metadata": {},
   "outputs": [],
   "source": []
  },
  {
   "cell_type": "code",
   "execution_count": 6,
   "metadata": {},
   "outputs": [
    {
     "data": {
      "text/html": [
       "<div>\n",
       "<style scoped>\n",
       "    .dataframe tbody tr th:only-of-type {\n",
       "        vertical-align: middle;\n",
       "    }\n",
       "\n",
       "    .dataframe tbody tr th {\n",
       "        vertical-align: top;\n",
       "    }\n",
       "\n",
       "    .dataframe thead th {\n",
       "        text-align: right;\n",
       "    }\n",
       "</style>\n",
       "<table border=\"1\" class=\"dataframe\">\n",
       "  <thead>\n",
       "    <tr style=\"text-align: right;\">\n",
       "      <th></th>\n",
       "      <th>player_one_id</th>\n",
       "      <th>player_two_id</th>\n",
       "      <th>winner_id</th>\n",
       "      <th>first_mover_id</th>\n",
       "      <th>moves</th>\n",
       "      <th>turns</th>\n",
       "      <th>start_time</th>\n",
       "      <th>end_time</th>\n",
       "      <th>monte_carlo_51</th>\n",
       "      <th>monte_carlo_1000</th>\n",
       "      <th>monte_carlo_200</th>\n",
       "      <th>monte_carlo_100</th>\n",
       "      <th>monte_carlo_500</th>\n",
       "      <th>random_naive</th>\n",
       "      <th>random_not_stupid</th>\n",
       "      <th>monte_carlo_150</th>\n",
       "      <th>monte_carlo_50</th>\n",
       "    </tr>\n",
       "  </thead>\n",
       "  <tbody>\n",
       "    <tr>\n",
       "      <th>0</th>\n",
       "      <td>monte_carlo_50</td>\n",
       "      <td>monte_carlo_200</td>\n",
       "      <td>monte_carlo_200</td>\n",
       "      <td>monte_carlo_50</td>\n",
       "      <td>[2, 5, 2, 4, 0, 3, 6, 2, 4, 3, 3, 5, 3, 5, 5, ...</td>\n",
       "      <td>42</td>\n",
       "      <td>NaT</td>\n",
       "      <td>NaT</td>\n",
       "      <td>False</td>\n",
       "      <td>False</td>\n",
       "      <td>True</td>\n",
       "      <td>False</td>\n",
       "      <td>False</td>\n",
       "      <td>False</td>\n",
       "      <td>False</td>\n",
       "      <td>False</td>\n",
       "      <td>True</td>\n",
       "    </tr>\n",
       "    <tr>\n",
       "      <th>1</th>\n",
       "      <td>random_naive</td>\n",
       "      <td>monte_carlo_500</td>\n",
       "      <td>monte_carlo_500</td>\n",
       "      <td>random_naive</td>\n",
       "      <td>[3, 3, 6, 3, 1, 3, 2, 3]</td>\n",
       "      <td>8</td>\n",
       "      <td>NaT</td>\n",
       "      <td>NaT</td>\n",
       "      <td>False</td>\n",
       "      <td>False</td>\n",
       "      <td>False</td>\n",
       "      <td>False</td>\n",
       "      <td>True</td>\n",
       "      <td>True</td>\n",
       "      <td>False</td>\n",
       "      <td>False</td>\n",
       "      <td>False</td>\n",
       "    </tr>\n",
       "  </tbody>\n",
       "</table>\n",
       "</div>"
      ],
      "text/plain": [
       "    player_one_id    player_two_id        winner_id  first_mover_id  \\\n",
       "0  monte_carlo_50  monte_carlo_200  monte_carlo_200  monte_carlo_50   \n",
       "1    random_naive  monte_carlo_500  monte_carlo_500    random_naive   \n",
       "\n",
       "                                               moves  turns start_time  \\\n",
       "0  [2, 5, 2, 4, 0, 3, 6, 2, 4, 3, 3, 5, 3, 5, 5, ...     42        NaT   \n",
       "1                           [3, 3, 6, 3, 1, 3, 2, 3]      8        NaT   \n",
       "\n",
       "  end_time  monte_carlo_51  monte_carlo_1000  monte_carlo_200  \\\n",
       "0      NaT           False             False             True   \n",
       "1      NaT           False             False            False   \n",
       "\n",
       "   monte_carlo_100  monte_carlo_500  random_naive  random_not_stupid  \\\n",
       "0            False            False         False              False   \n",
       "1            False             True          True              False   \n",
       "\n",
       "   monte_carlo_150  monte_carlo_50  \n",
       "0            False            True  \n",
       "1            False           False  "
      ]
     },
     "execution_count": 6,
     "metadata": {},
     "output_type": "execute_result"
    }
   ],
   "source": [
    "# Create indicator columns  for all of the players \n",
    "players = list(set(data_df['player_one_id'].to_list() +  data_df['player_two_id'].to_list()))\n",
    "players\n",
    "\n",
    "for player in players:\n",
    "    data_df[player] = (data_df['player_one_id'] == player) | (data_df['player_two_id'] == player)\n",
    "\n",
    "data_df.head(2)"
   ]
  },
  {
   "cell_type": "code",
   "execution_count": 7,
   "metadata": {},
   "outputs": [
    {
     "data": {
      "text/plain": [
       "monte_carlo_51       10000\n",
       "monte_carlo_1000       590\n",
       "monte_carlo_200      24280\n",
       "monte_carlo_100       4187\n",
       "monte_carlo_500        552\n",
       "random_naive           554\n",
       "random_not_stupid      601\n",
       "monte_carlo_150      23702\n",
       "monte_carlo_50       14176\n",
       "dtype: int64"
      ]
     },
     "execution_count": 7,
     "metadata": {},
     "output_type": "execute_result"
    }
   ],
   "source": [
    "data_df[players].sum()"
   ]
  },
  {
   "cell_type": "code",
   "execution_count": null,
   "metadata": {},
   "outputs": [],
   "source": []
  },
  {
   "cell_type": "code",
   "execution_count": 8,
   "metadata": {},
   "outputs": [
    {
     "name": "stdout",
     "output_type": "stream",
     "text": [
      "random_naive\n"
     ]
    },
    {
     "data": {
      "text/html": [
       "<div>\n",
       "<style scoped>\n",
       "    .dataframe tbody tr th:only-of-type {\n",
       "        vertical-align: middle;\n",
       "    }\n",
       "\n",
       "    .dataframe tbody tr th {\n",
       "        vertical-align: top;\n",
       "    }\n",
       "\n",
       "    .dataframe thead th {\n",
       "        text-align: right;\n",
       "    }\n",
       "</style>\n",
       "<table border=\"1\" class=\"dataframe\">\n",
       "  <thead>\n",
       "    <tr style=\"text-align: right;\">\n",
       "      <th></th>\n",
       "      <th>games_played</th>\n",
       "      <th>games_won</th>\n",
       "      <th>ties</th>\n",
       "      <th>win_rate</th>\n",
       "      <th>tie_rate</th>\n",
       "    </tr>\n",
       "  </thead>\n",
       "  <tbody>\n",
       "    <tr>\n",
       "      <th>random_naive</th>\n",
       "      <td>NaN</td>\n",
       "      <td>NaN</td>\n",
       "      <td>NaN</td>\n",
       "      <td>NaN</td>\n",
       "      <td>NaN</td>\n",
       "    </tr>\n",
       "    <tr>\n",
       "      <th>random_not_stupid</th>\n",
       "      <td>102.0</td>\n",
       "      <td>4.0</td>\n",
       "      <td>0.0</td>\n",
       "      <td>3.921569</td>\n",
       "      <td>0.0</td>\n",
       "    </tr>\n",
       "    <tr>\n",
       "      <th>monte_carlo_50</th>\n",
       "      <td>83.0</td>\n",
       "      <td>0.0</td>\n",
       "      <td>0.0</td>\n",
       "      <td>0.000000</td>\n",
       "      <td>0.0</td>\n",
       "    </tr>\n",
       "    <tr>\n",
       "      <th>monte_carlo_100</th>\n",
       "      <td>84.0</td>\n",
       "      <td>0.0</td>\n",
       "      <td>0.0</td>\n",
       "      <td>0.000000</td>\n",
       "      <td>0.0</td>\n",
       "    </tr>\n",
       "    <tr>\n",
       "      <th>monte_carlo_200</th>\n",
       "      <td>105.0</td>\n",
       "      <td>0.0</td>\n",
       "      <td>0.0</td>\n",
       "      <td>0.000000</td>\n",
       "      <td>0.0</td>\n",
       "    </tr>\n",
       "    <tr>\n",
       "      <th>monte_carlo_500</th>\n",
       "      <td>68.0</td>\n",
       "      <td>0.0</td>\n",
       "      <td>0.0</td>\n",
       "      <td>0.000000</td>\n",
       "      <td>0.0</td>\n",
       "    </tr>\n",
       "    <tr>\n",
       "      <th>monte_carlo_1000</th>\n",
       "      <td>112.0</td>\n",
       "      <td>0.0</td>\n",
       "      <td>0.0</td>\n",
       "      <td>0.000000</td>\n",
       "      <td>0.0</td>\n",
       "    </tr>\n",
       "  </tbody>\n",
       "</table>\n",
       "</div>"
      ],
      "text/plain": [
       "                   games_played  games_won  ties  win_rate  tie_rate\n",
       "random_naive                NaN        NaN   NaN       NaN       NaN\n",
       "random_not_stupid         102.0        4.0   0.0  3.921569       0.0\n",
       "monte_carlo_50             83.0        0.0   0.0  0.000000       0.0\n",
       "monte_carlo_100            84.0        0.0   0.0  0.000000       0.0\n",
       "monte_carlo_200           105.0        0.0   0.0  0.000000       0.0\n",
       "monte_carlo_500            68.0        0.0   0.0  0.000000       0.0\n",
       "monte_carlo_1000          112.0        0.0   0.0  0.000000       0.0"
      ]
     },
     "metadata": {},
     "output_type": "display_data"
    },
    {
     "name": "stdout",
     "output_type": "stream",
     "text": [
      "random_not_stupid\n"
     ]
    },
    {
     "data": {
      "text/html": [
       "<div>\n",
       "<style scoped>\n",
       "    .dataframe tbody tr th:only-of-type {\n",
       "        vertical-align: middle;\n",
       "    }\n",
       "\n",
       "    .dataframe tbody tr th {\n",
       "        vertical-align: top;\n",
       "    }\n",
       "\n",
       "    .dataframe thead th {\n",
       "        text-align: right;\n",
       "    }\n",
       "</style>\n",
       "<table border=\"1\" class=\"dataframe\">\n",
       "  <thead>\n",
       "    <tr style=\"text-align: right;\">\n",
       "      <th></th>\n",
       "      <th>games_played</th>\n",
       "      <th>games_won</th>\n",
       "      <th>ties</th>\n",
       "      <th>win_rate</th>\n",
       "      <th>tie_rate</th>\n",
       "    </tr>\n",
       "  </thead>\n",
       "  <tbody>\n",
       "    <tr>\n",
       "      <th>random_naive</th>\n",
       "      <td>102.0</td>\n",
       "      <td>98.0</td>\n",
       "      <td>0.0</td>\n",
       "      <td>96.078431</td>\n",
       "      <td>0.000000</td>\n",
       "    </tr>\n",
       "    <tr>\n",
       "      <th>random_not_stupid</th>\n",
       "      <td>NaN</td>\n",
       "      <td>NaN</td>\n",
       "      <td>NaN</td>\n",
       "      <td>NaN</td>\n",
       "      <td>NaN</td>\n",
       "    </tr>\n",
       "    <tr>\n",
       "      <th>monte_carlo_50</th>\n",
       "      <td>90.0</td>\n",
       "      <td>15.0</td>\n",
       "      <td>5.0</td>\n",
       "      <td>16.666667</td>\n",
       "      <td>5.555556</td>\n",
       "    </tr>\n",
       "    <tr>\n",
       "      <th>monte_carlo_100</th>\n",
       "      <td>98.0</td>\n",
       "      <td>13.0</td>\n",
       "      <td>2.0</td>\n",
       "      <td>13.265306</td>\n",
       "      <td>2.040816</td>\n",
       "    </tr>\n",
       "    <tr>\n",
       "      <th>monte_carlo_200</th>\n",
       "      <td>87.0</td>\n",
       "      <td>8.0</td>\n",
       "      <td>0.0</td>\n",
       "      <td>9.195402</td>\n",
       "      <td>0.000000</td>\n",
       "    </tr>\n",
       "    <tr>\n",
       "      <th>monte_carlo_500</th>\n",
       "      <td>105.0</td>\n",
       "      <td>10.0</td>\n",
       "      <td>1.0</td>\n",
       "      <td>9.523810</td>\n",
       "      <td>0.952381</td>\n",
       "    </tr>\n",
       "    <tr>\n",
       "      <th>monte_carlo_1000</th>\n",
       "      <td>119.0</td>\n",
       "      <td>12.0</td>\n",
       "      <td>0.0</td>\n",
       "      <td>10.084034</td>\n",
       "      <td>0.000000</td>\n",
       "    </tr>\n",
       "  </tbody>\n",
       "</table>\n",
       "</div>"
      ],
      "text/plain": [
       "                   games_played  games_won  ties   win_rate  tie_rate\n",
       "random_naive              102.0       98.0   0.0  96.078431  0.000000\n",
       "random_not_stupid           NaN        NaN   NaN        NaN       NaN\n",
       "monte_carlo_50             90.0       15.0   5.0  16.666667  5.555556\n",
       "monte_carlo_100            98.0       13.0   2.0  13.265306  2.040816\n",
       "monte_carlo_200            87.0        8.0   0.0   9.195402  0.000000\n",
       "monte_carlo_500           105.0       10.0   1.0   9.523810  0.952381\n",
       "monte_carlo_1000          119.0       12.0   0.0  10.084034  0.000000"
      ]
     },
     "metadata": {},
     "output_type": "display_data"
    },
    {
     "name": "stdout",
     "output_type": "stream",
     "text": [
      "monte_carlo_50\n"
     ]
    },
    {
     "data": {
      "text/html": [
       "<div>\n",
       "<style scoped>\n",
       "    .dataframe tbody tr th:only-of-type {\n",
       "        vertical-align: middle;\n",
       "    }\n",
       "\n",
       "    .dataframe tbody tr th {\n",
       "        vertical-align: top;\n",
       "    }\n",
       "\n",
       "    .dataframe thead th {\n",
       "        text-align: right;\n",
       "    }\n",
       "</style>\n",
       "<table border=\"1\" class=\"dataframe\">\n",
       "  <thead>\n",
       "    <tr style=\"text-align: right;\">\n",
       "      <th></th>\n",
       "      <th>games_played</th>\n",
       "      <th>games_won</th>\n",
       "      <th>ties</th>\n",
       "      <th>win_rate</th>\n",
       "      <th>tie_rate</th>\n",
       "    </tr>\n",
       "  </thead>\n",
       "  <tbody>\n",
       "    <tr>\n",
       "      <th>random_naive</th>\n",
       "      <td>83.0</td>\n",
       "      <td>83.0</td>\n",
       "      <td>0.0</td>\n",
       "      <td>100.000000</td>\n",
       "      <td>0.000000</td>\n",
       "    </tr>\n",
       "    <tr>\n",
       "      <th>random_not_stupid</th>\n",
       "      <td>90.0</td>\n",
       "      <td>70.0</td>\n",
       "      <td>5.0</td>\n",
       "      <td>77.777778</td>\n",
       "      <td>5.555556</td>\n",
       "    </tr>\n",
       "    <tr>\n",
       "      <th>monte_carlo_50</th>\n",
       "      <td>NaN</td>\n",
       "      <td>NaN</td>\n",
       "      <td>NaN</td>\n",
       "      <td>NaN</td>\n",
       "      <td>NaN</td>\n",
       "    </tr>\n",
       "    <tr>\n",
       "      <th>monte_carlo_100</th>\n",
       "      <td>3719.0</td>\n",
       "      <td>1622.0</td>\n",
       "      <td>57.0</td>\n",
       "      <td>43.613875</td>\n",
       "      <td>1.532670</td>\n",
       "    </tr>\n",
       "    <tr>\n",
       "      <th>monte_carlo_200</th>\n",
       "      <td>98.0</td>\n",
       "      <td>35.0</td>\n",
       "      <td>2.0</td>\n",
       "      <td>35.714286</td>\n",
       "      <td>2.040816</td>\n",
       "    </tr>\n",
       "    <tr>\n",
       "      <th>monte_carlo_500</th>\n",
       "      <td>99.0</td>\n",
       "      <td>25.0</td>\n",
       "      <td>2.0</td>\n",
       "      <td>25.252525</td>\n",
       "      <td>2.020202</td>\n",
       "    </tr>\n",
       "    <tr>\n",
       "      <th>monte_carlo_1000</th>\n",
       "      <td>87.0</td>\n",
       "      <td>34.0</td>\n",
       "      <td>1.0</td>\n",
       "      <td>39.080460</td>\n",
       "      <td>1.149425</td>\n",
       "    </tr>\n",
       "  </tbody>\n",
       "</table>\n",
       "</div>"
      ],
      "text/plain": [
       "                   games_played  games_won  ties    win_rate  tie_rate\n",
       "random_naive               83.0       83.0   0.0  100.000000  0.000000\n",
       "random_not_stupid          90.0       70.0   5.0   77.777778  5.555556\n",
       "monte_carlo_50              NaN        NaN   NaN         NaN       NaN\n",
       "monte_carlo_100          3719.0     1622.0  57.0   43.613875  1.532670\n",
       "monte_carlo_200            98.0       35.0   2.0   35.714286  2.040816\n",
       "monte_carlo_500            99.0       25.0   2.0   25.252525  2.020202\n",
       "monte_carlo_1000           87.0       34.0   1.0   39.080460  1.149425"
      ]
     },
     "metadata": {},
     "output_type": "display_data"
    },
    {
     "name": "stdout",
     "output_type": "stream",
     "text": [
      "monte_carlo_100\n"
     ]
    },
    {
     "data": {
      "text/html": [
       "<div>\n",
       "<style scoped>\n",
       "    .dataframe tbody tr th:only-of-type {\n",
       "        vertical-align: middle;\n",
       "    }\n",
       "\n",
       "    .dataframe tbody tr th {\n",
       "        vertical-align: top;\n",
       "    }\n",
       "\n",
       "    .dataframe thead th {\n",
       "        text-align: right;\n",
       "    }\n",
       "</style>\n",
       "<table border=\"1\" class=\"dataframe\">\n",
       "  <thead>\n",
       "    <tr style=\"text-align: right;\">\n",
       "      <th></th>\n",
       "      <th>games_played</th>\n",
       "      <th>games_won</th>\n",
       "      <th>ties</th>\n",
       "      <th>win_rate</th>\n",
       "      <th>tie_rate</th>\n",
       "    </tr>\n",
       "  </thead>\n",
       "  <tbody>\n",
       "    <tr>\n",
       "      <th>random_naive</th>\n",
       "      <td>84.0</td>\n",
       "      <td>84.0</td>\n",
       "      <td>0.0</td>\n",
       "      <td>100.000000</td>\n",
       "      <td>0.000000</td>\n",
       "    </tr>\n",
       "    <tr>\n",
       "      <th>random_not_stupid</th>\n",
       "      <td>98.0</td>\n",
       "      <td>83.0</td>\n",
       "      <td>2.0</td>\n",
       "      <td>84.693878</td>\n",
       "      <td>2.040816</td>\n",
       "    </tr>\n",
       "    <tr>\n",
       "      <th>monte_carlo_50</th>\n",
       "      <td>3719.0</td>\n",
       "      <td>2040.0</td>\n",
       "      <td>57.0</td>\n",
       "      <td>54.853455</td>\n",
       "      <td>1.532670</td>\n",
       "    </tr>\n",
       "    <tr>\n",
       "      <th>monte_carlo_100</th>\n",
       "      <td>NaN</td>\n",
       "      <td>NaN</td>\n",
       "      <td>NaN</td>\n",
       "      <td>NaN</td>\n",
       "      <td>NaN</td>\n",
       "    </tr>\n",
       "    <tr>\n",
       "      <th>monte_carlo_200</th>\n",
       "      <td>101.0</td>\n",
       "      <td>45.0</td>\n",
       "      <td>0.0</td>\n",
       "      <td>44.554455</td>\n",
       "      <td>0.000000</td>\n",
       "    </tr>\n",
       "    <tr>\n",
       "      <th>monte_carlo_500</th>\n",
       "      <td>101.0</td>\n",
       "      <td>40.0</td>\n",
       "      <td>0.0</td>\n",
       "      <td>39.603960</td>\n",
       "      <td>0.000000</td>\n",
       "    </tr>\n",
       "    <tr>\n",
       "      <th>monte_carlo_1000</th>\n",
       "      <td>84.0</td>\n",
       "      <td>33.0</td>\n",
       "      <td>0.0</td>\n",
       "      <td>39.285714</td>\n",
       "      <td>0.000000</td>\n",
       "    </tr>\n",
       "  </tbody>\n",
       "</table>\n",
       "</div>"
      ],
      "text/plain": [
       "                   games_played  games_won  ties    win_rate  tie_rate\n",
       "random_naive               84.0       84.0   0.0  100.000000  0.000000\n",
       "random_not_stupid          98.0       83.0   2.0   84.693878  2.040816\n",
       "monte_carlo_50           3719.0     2040.0  57.0   54.853455  1.532670\n",
       "monte_carlo_100             NaN        NaN   NaN         NaN       NaN\n",
       "monte_carlo_200           101.0       45.0   0.0   44.554455  0.000000\n",
       "monte_carlo_500           101.0       40.0   0.0   39.603960  0.000000\n",
       "monte_carlo_1000           84.0       33.0   0.0   39.285714  0.000000"
      ]
     },
     "metadata": {},
     "output_type": "display_data"
    },
    {
     "name": "stdout",
     "output_type": "stream",
     "text": [
      "monte_carlo_200\n"
     ]
    },
    {
     "data": {
      "text/html": [
       "<div>\n",
       "<style scoped>\n",
       "    .dataframe tbody tr th:only-of-type {\n",
       "        vertical-align: middle;\n",
       "    }\n",
       "\n",
       "    .dataframe tbody tr th {\n",
       "        vertical-align: top;\n",
       "    }\n",
       "\n",
       "    .dataframe thead th {\n",
       "        text-align: right;\n",
       "    }\n",
       "</style>\n",
       "<table border=\"1\" class=\"dataframe\">\n",
       "  <thead>\n",
       "    <tr style=\"text-align: right;\">\n",
       "      <th></th>\n",
       "      <th>games_played</th>\n",
       "      <th>games_won</th>\n",
       "      <th>ties</th>\n",
       "      <th>win_rate</th>\n",
       "      <th>tie_rate</th>\n",
       "    </tr>\n",
       "  </thead>\n",
       "  <tbody>\n",
       "    <tr>\n",
       "      <th>random_naive</th>\n",
       "      <td>105.0</td>\n",
       "      <td>105.0</td>\n",
       "      <td>0.0</td>\n",
       "      <td>100.000000</td>\n",
       "      <td>0.000000</td>\n",
       "    </tr>\n",
       "    <tr>\n",
       "      <th>random_not_stupid</th>\n",
       "      <td>87.0</td>\n",
       "      <td>79.0</td>\n",
       "      <td>0.0</td>\n",
       "      <td>90.804598</td>\n",
       "      <td>0.000000</td>\n",
       "    </tr>\n",
       "    <tr>\n",
       "      <th>monte_carlo_50</th>\n",
       "      <td>98.0</td>\n",
       "      <td>61.0</td>\n",
       "      <td>2.0</td>\n",
       "      <td>62.244898</td>\n",
       "      <td>2.040816</td>\n",
       "    </tr>\n",
       "    <tr>\n",
       "      <th>monte_carlo_100</th>\n",
       "      <td>101.0</td>\n",
       "      <td>56.0</td>\n",
       "      <td>0.0</td>\n",
       "      <td>55.445545</td>\n",
       "      <td>0.000000</td>\n",
       "    </tr>\n",
       "    <tr>\n",
       "      <th>monte_carlo_200</th>\n",
       "      <td>NaN</td>\n",
       "      <td>NaN</td>\n",
       "      <td>NaN</td>\n",
       "      <td>NaN</td>\n",
       "      <td>NaN</td>\n",
       "    </tr>\n",
       "    <tr>\n",
       "      <th>monte_carlo_500</th>\n",
       "      <td>89.0</td>\n",
       "      <td>40.0</td>\n",
       "      <td>1.0</td>\n",
       "      <td>44.943820</td>\n",
       "      <td>1.123596</td>\n",
       "    </tr>\n",
       "    <tr>\n",
       "      <th>monte_carlo_1000</th>\n",
       "      <td>98.0</td>\n",
       "      <td>45.0</td>\n",
       "      <td>1.0</td>\n",
       "      <td>45.918367</td>\n",
       "      <td>1.020408</td>\n",
       "    </tr>\n",
       "  </tbody>\n",
       "</table>\n",
       "</div>"
      ],
      "text/plain": [
       "                   games_played  games_won  ties    win_rate  tie_rate\n",
       "random_naive              105.0      105.0   0.0  100.000000  0.000000\n",
       "random_not_stupid          87.0       79.0   0.0   90.804598  0.000000\n",
       "monte_carlo_50             98.0       61.0   2.0   62.244898  2.040816\n",
       "monte_carlo_100           101.0       56.0   0.0   55.445545  0.000000\n",
       "monte_carlo_200             NaN        NaN   NaN         NaN       NaN\n",
       "monte_carlo_500            89.0       40.0   1.0   44.943820  1.123596\n",
       "monte_carlo_1000           98.0       45.0   1.0   45.918367  1.020408"
      ]
     },
     "metadata": {},
     "output_type": "display_data"
    },
    {
     "name": "stdout",
     "output_type": "stream",
     "text": [
      "monte_carlo_500\n"
     ]
    },
    {
     "data": {
      "text/html": [
       "<div>\n",
       "<style scoped>\n",
       "    .dataframe tbody tr th:only-of-type {\n",
       "        vertical-align: middle;\n",
       "    }\n",
       "\n",
       "    .dataframe tbody tr th {\n",
       "        vertical-align: top;\n",
       "    }\n",
       "\n",
       "    .dataframe thead th {\n",
       "        text-align: right;\n",
       "    }\n",
       "</style>\n",
       "<table border=\"1\" class=\"dataframe\">\n",
       "  <thead>\n",
       "    <tr style=\"text-align: right;\">\n",
       "      <th></th>\n",
       "      <th>games_played</th>\n",
       "      <th>games_won</th>\n",
       "      <th>ties</th>\n",
       "      <th>win_rate</th>\n",
       "      <th>tie_rate</th>\n",
       "    </tr>\n",
       "  </thead>\n",
       "  <tbody>\n",
       "    <tr>\n",
       "      <th>random_naive</th>\n",
       "      <td>68.0</td>\n",
       "      <td>68.0</td>\n",
       "      <td>0.0</td>\n",
       "      <td>100.000000</td>\n",
       "      <td>0.000000</td>\n",
       "    </tr>\n",
       "    <tr>\n",
       "      <th>random_not_stupid</th>\n",
       "      <td>105.0</td>\n",
       "      <td>94.0</td>\n",
       "      <td>1.0</td>\n",
       "      <td>89.523810</td>\n",
       "      <td>0.952381</td>\n",
       "    </tr>\n",
       "    <tr>\n",
       "      <th>monte_carlo_50</th>\n",
       "      <td>99.0</td>\n",
       "      <td>72.0</td>\n",
       "      <td>2.0</td>\n",
       "      <td>72.727273</td>\n",
       "      <td>2.020202</td>\n",
       "    </tr>\n",
       "    <tr>\n",
       "      <th>monte_carlo_100</th>\n",
       "      <td>101.0</td>\n",
       "      <td>61.0</td>\n",
       "      <td>0.0</td>\n",
       "      <td>60.396040</td>\n",
       "      <td>0.000000</td>\n",
       "    </tr>\n",
       "    <tr>\n",
       "      <th>monte_carlo_200</th>\n",
       "      <td>89.0</td>\n",
       "      <td>48.0</td>\n",
       "      <td>1.0</td>\n",
       "      <td>53.932584</td>\n",
       "      <td>1.123596</td>\n",
       "    </tr>\n",
       "    <tr>\n",
       "      <th>monte_carlo_500</th>\n",
       "      <td>NaN</td>\n",
       "      <td>NaN</td>\n",
       "      <td>NaN</td>\n",
       "      <td>NaN</td>\n",
       "      <td>NaN</td>\n",
       "    </tr>\n",
       "    <tr>\n",
       "      <th>monte_carlo_1000</th>\n",
       "      <td>90.0</td>\n",
       "      <td>59.0</td>\n",
       "      <td>1.0</td>\n",
       "      <td>65.555556</td>\n",
       "      <td>1.111111</td>\n",
       "    </tr>\n",
       "  </tbody>\n",
       "</table>\n",
       "</div>"
      ],
      "text/plain": [
       "                   games_played  games_won  ties    win_rate  tie_rate\n",
       "random_naive               68.0       68.0   0.0  100.000000  0.000000\n",
       "random_not_stupid         105.0       94.0   1.0   89.523810  0.952381\n",
       "monte_carlo_50             99.0       72.0   2.0   72.727273  2.020202\n",
       "monte_carlo_100           101.0       61.0   0.0   60.396040  0.000000\n",
       "monte_carlo_200            89.0       48.0   1.0   53.932584  1.123596\n",
       "monte_carlo_500             NaN        NaN   NaN         NaN       NaN\n",
       "monte_carlo_1000           90.0       59.0   1.0   65.555556  1.111111"
      ]
     },
     "metadata": {},
     "output_type": "display_data"
    },
    {
     "name": "stdout",
     "output_type": "stream",
     "text": [
      "monte_carlo_1000\n"
     ]
    },
    {
     "data": {
      "text/html": [
       "<div>\n",
       "<style scoped>\n",
       "    .dataframe tbody tr th:only-of-type {\n",
       "        vertical-align: middle;\n",
       "    }\n",
       "\n",
       "    .dataframe tbody tr th {\n",
       "        vertical-align: top;\n",
       "    }\n",
       "\n",
       "    .dataframe thead th {\n",
       "        text-align: right;\n",
       "    }\n",
       "</style>\n",
       "<table border=\"1\" class=\"dataframe\">\n",
       "  <thead>\n",
       "    <tr style=\"text-align: right;\">\n",
       "      <th></th>\n",
       "      <th>games_played</th>\n",
       "      <th>games_won</th>\n",
       "      <th>ties</th>\n",
       "      <th>win_rate</th>\n",
       "      <th>tie_rate</th>\n",
       "    </tr>\n",
       "  </thead>\n",
       "  <tbody>\n",
       "    <tr>\n",
       "      <th>random_naive</th>\n",
       "      <td>112.0</td>\n",
       "      <td>112.0</td>\n",
       "      <td>0.0</td>\n",
       "      <td>100.000000</td>\n",
       "      <td>0.000000</td>\n",
       "    </tr>\n",
       "    <tr>\n",
       "      <th>random_not_stupid</th>\n",
       "      <td>119.0</td>\n",
       "      <td>107.0</td>\n",
       "      <td>0.0</td>\n",
       "      <td>89.915966</td>\n",
       "      <td>0.000000</td>\n",
       "    </tr>\n",
       "    <tr>\n",
       "      <th>monte_carlo_50</th>\n",
       "      <td>87.0</td>\n",
       "      <td>52.0</td>\n",
       "      <td>1.0</td>\n",
       "      <td>59.770115</td>\n",
       "      <td>1.149425</td>\n",
       "    </tr>\n",
       "    <tr>\n",
       "      <th>monte_carlo_100</th>\n",
       "      <td>84.0</td>\n",
       "      <td>51.0</td>\n",
       "      <td>0.0</td>\n",
       "      <td>60.714286</td>\n",
       "      <td>0.000000</td>\n",
       "    </tr>\n",
       "    <tr>\n",
       "      <th>monte_carlo_200</th>\n",
       "      <td>98.0</td>\n",
       "      <td>52.0</td>\n",
       "      <td>1.0</td>\n",
       "      <td>53.061224</td>\n",
       "      <td>1.020408</td>\n",
       "    </tr>\n",
       "    <tr>\n",
       "      <th>monte_carlo_500</th>\n",
       "      <td>90.0</td>\n",
       "      <td>30.0</td>\n",
       "      <td>1.0</td>\n",
       "      <td>33.333333</td>\n",
       "      <td>1.111111</td>\n",
       "    </tr>\n",
       "    <tr>\n",
       "      <th>monte_carlo_1000</th>\n",
       "      <td>NaN</td>\n",
       "      <td>NaN</td>\n",
       "      <td>NaN</td>\n",
       "      <td>NaN</td>\n",
       "      <td>NaN</td>\n",
       "    </tr>\n",
       "  </tbody>\n",
       "</table>\n",
       "</div>"
      ],
      "text/plain": [
       "                   games_played  games_won  ties    win_rate  tie_rate\n",
       "random_naive              112.0      112.0   0.0  100.000000  0.000000\n",
       "random_not_stupid         119.0      107.0   0.0   89.915966  0.000000\n",
       "monte_carlo_50             87.0       52.0   1.0   59.770115  1.149425\n",
       "monte_carlo_100            84.0       51.0   0.0   60.714286  0.000000\n",
       "monte_carlo_200            98.0       52.0   1.0   53.061224  1.020408\n",
       "monte_carlo_500            90.0       30.0   1.0   33.333333  1.111111\n",
       "monte_carlo_1000            NaN        NaN   NaN         NaN       NaN"
      ]
     },
     "metadata": {},
     "output_type": "display_data"
    }
   ],
   "source": [
    "players = [\n",
    " 'random_naive',\n",
    " 'random_not_stupid',\n",
    " 'monte_carlo_50',\n",
    " 'monte_carlo_100',\n",
    " 'monte_carlo_200',\n",
    " 'monte_carlo_500', \n",
    " 'monte_carlo_1000',\n",
    "]\n",
    "\n",
    "\n",
    "def calculate_win_rate(data_df, target_player):\n",
    "    target_df = data_df[data_df[target_player]]\n",
    "    results_df = pd.DataFrame(index=players)\n",
    "    \n",
    "    for player in players:\n",
    "        if player == target_player:\n",
    "            continue\n",
    "        subset_df = target_df[target_df[player]]\n",
    "        games_played = subset_df.shape[0]\n",
    "        games_won = subset_df[subset_df['winner_id'] == target_player].shape[0]\n",
    "        win_rate = games_won / games_played if games_played > 0 else 0\n",
    "        results_df.loc[player, 'games_played'] = games_played\n",
    "        results_df.loc[player, 'games_won'] = games_won\n",
    "        results_df.loc[player, 'ties'] = subset_df[subset_df['winner_id'] == 'Tie'].shape[0]\n",
    "        results_df.loc[player, 'win_rate'] = win_rate * 100\n",
    "        results_df.loc[player, 'tie_rate'] = results_df.loc[player, 'ties'] / games_played * 100\n",
    "\n",
    "    return results_df\n",
    "\n",
    "\n",
    "\n",
    "for player in players:\n",
    "    print(player)\n",
    "    display(calculate_win_rate(data_df, player))\n"
   ]
  },
  {
   "cell_type": "code",
   "execution_count": null,
   "metadata": {},
   "outputs": [],
   "source": []
  },
  {
   "cell_type": "markdown",
   "metadata": {},
   "source": [
    "## Turn Counts"
   ]
  },
  {
   "cell_type": "code",
   "execution_count": 9,
   "metadata": {},
   "outputs": [
    {
     "data": {
      "text/plain": [
       "<Axes: xlabel='turns', ylabel='Count'>"
      ]
     },
     "execution_count": 9,
     "metadata": {},
     "output_type": "execute_result"
    },
    {
     "data": {
      "image/png": "[encoded data removed]",
      "text/plain": [
       "<Figure size 700x400 with 1 Axes>"
      ]
     },
     "metadata": {},
     "output_type": "display_data"
    }
   ],
   "source": [
    "# turn_distribution = data_df.turns.value_counts()\n",
    "fig, ax = plt.subplots(figsize = (7, 4))\n",
    "sns.histplot(data_df.turns, ax=ax,binwidth=1, discrete=True)"
   ]
  },
  {
   "cell_type": "code",
   "execution_count": null,
   "metadata": {},
   "outputs": [],
   "source": []
  },
  {
   "cell_type": "code",
   "execution_count": null,
   "metadata": {},
   "outputs": [],
   "source": []
  },
  {
   "cell_type": "code",
   "execution_count": null,
   "metadata": {},
   "outputs": [],
   "source": []
  },
  {
   "cell_type": "code",
   "execution_count": null,
   "metadata": {},
   "outputs": [],
   "source": []
  },
  {
   "cell_type": "code",
   "execution_count": null,
   "metadata": {},
   "outputs": [],
   "source": []
  },
  {
   "cell_type": "code",
   "execution_count": null,
   "metadata": {},
   "outputs": [],
   "source": []
  }
 ],
 "metadata": {
  "kernelspec": {
   "display_name": "ConnectFour-nYnq5-EH",
   "language": "python",
   "name": "python3"
  },
  "language_info": {
   "codemirror_mode": {
    "name": "ipython",
    "version": 3
   },
   "file_extension": ".py",
   "mimetype": "text/x-python",
   "name": "python",
   "nbconvert_exporter": "python",
   "pygments_lexer": "ipython3",
   "version": "3.12.4"
  }
 },
 "nbformat": 4,
 "nbformat_minor": 2
}
