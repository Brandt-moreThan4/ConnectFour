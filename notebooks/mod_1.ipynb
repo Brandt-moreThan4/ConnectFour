{
 "cells": [
  {
   "cell_type": "code",
   "execution_count": 1,
   "metadata": {},
   "outputs": [],
   "source": [
    "import pandas as pd\n",
    "from pathlib import Path\n",
    "import json\n",
    "import matplotlib.pyplot as plt\n",
    "import numpy as np\n",
    "import seaborn as sns; sns.set_theme()\n",
    "PROJECT_FOLDER = Path().absolute().parent\n",
    "import sys\n",
    "sys.path.append(str(PROJECT_FOLDER))\n",
    "\n",
    "import model_training as mt\n",
    "from model_training.engine import DataBase"
   ]
  },
  {
   "cell_type": "code",
   "execution_count": 2,
   "metadata": {},
   "outputs": [
    {
     "data": {
      "text/plain": [
       "DataBase(c:\\Users\\User\\OneDrive\\Desktop\\Code\\ConnectFour\\model_training\\data\\master_db.json) - 39321 records"
      ]
     },
     "execution_count": 2,
     "metadata": {},
     "output_type": "execute_result"
    }
   ],
   "source": [
    "\n",
    "DATA_FOLDER = PROJECT_FOLDER / 'model_training' / 'data'\n",
    "DATA_FILE = DATA_FOLDER / 'master_db.json'\n",
    "db = DataBase(DATA_FILE)\n",
    "db"
   ]
  },
  {
   "cell_type": "code",
   "execution_count": 3,
   "metadata": {},
   "outputs": [
    {
     "name": "stdout",
     "output_type": "stream",
     "text": [
      "(39321, 9)\n"
     ]
    },
    {
     "data": {
      "text/html": [
       "<div>\n",
       "<style scoped>\n",
       "    .dataframe tbody tr th:only-of-type {\n",
       "        vertical-align: middle;\n",
       "    }\n",
       "\n",
       "    .dataframe tbody tr th {\n",
       "        vertical-align: top;\n",
       "    }\n",
       "\n",
       "    .dataframe thead th {\n",
       "        text-align: right;\n",
       "    }\n",
       "</style>\n",
       "<table border=\"1\" class=\"dataframe\">\n",
       "  <thead>\n",
       "    <tr style=\"text-align: right;\">\n",
       "      <th></th>\n",
       "      <th>game_id</th>\n",
       "      <th>player_one_id</th>\n",
       "      <th>player_two_id</th>\n",
       "      <th>winner_id</th>\n",
       "      <th>first_mover_id</th>\n",
       "      <th>moves</th>\n",
       "      <th>turns</th>\n",
       "      <th>start_time</th>\n",
       "      <th>end_time</th>\n",
       "    </tr>\n",
       "  </thead>\n",
       "  <tbody>\n",
       "    <tr>\n",
       "      <th>0</th>\n",
       "      <td>1731877338926014-313026-dfd03d46</td>\n",
       "      <td>monte_carlo_50</td>\n",
       "      <td>monte_carlo_200</td>\n",
       "      <td>monte_carlo_200</td>\n",
       "      <td>monte_carlo_50</td>\n",
       "      <td>[2, 5, 2, 4, 0, 3, 6, 2, 4, 3, 3, 5, 3, 5, 5, ...</td>\n",
       "      <td>42</td>\n",
       "      <td>NaN</td>\n",
       "      <td>NaN</td>\n",
       "    </tr>\n",
       "    <tr>\n",
       "      <th>1</th>\n",
       "      <td>1731877383226884-899336-1e5dcfb5</td>\n",
       "      <td>random_naive</td>\n",
       "      <td>monte_carlo_500</td>\n",
       "      <td>monte_carlo_500</td>\n",
       "      <td>random_naive</td>\n",
       "      <td>[3, 3, 6, 3, 1, 3, 2, 3]</td>\n",
       "      <td>8</td>\n",
       "      <td>NaN</td>\n",
       "      <td>NaN</td>\n",
       "    </tr>\n",
       "  </tbody>\n",
       "</table>\n",
       "</div>"
      ],
      "text/plain": [
       "                            game_id   player_one_id    player_two_id  \\\n",
       "0  1731877338926014-313026-dfd03d46  monte_carlo_50  monte_carlo_200   \n",
       "1  1731877383226884-899336-1e5dcfb5    random_naive  monte_carlo_500   \n",
       "\n",
       "         winner_id  first_mover_id  \\\n",
       "0  monte_carlo_200  monte_carlo_50   \n",
       "1  monte_carlo_500    random_naive   \n",
       "\n",
       "                                               moves  turns start_time  \\\n",
       "0  [2, 5, 2, 4, 0, 3, 6, 2, 4, 3, 3, 5, 3, 5, 5, ...     42        NaN   \n",
       "1                           [3, 3, 6, 3, 1, 3, 2, 3]      8        NaN   \n",
       "\n",
       "  end_time  \n",
       "0      NaN  \n",
       "1      NaN  "
      ]
     },
     "execution_count": 3,
     "metadata": {},
     "output_type": "execute_result"
    }
   ],
   "source": [
    "raw_data = pd.DataFrame(db.data)\n",
    "print(raw_data.shape)\n",
    "raw_data.head(2)"
   ]
  },
  {
   "cell_type": "code",
   "execution_count": 4,
   "metadata": {},
   "outputs": [],
   "source": [
    "cols = ['game_id', 'player_one_id', 'player_two_id', 'winner_id',\n",
    "       'first_mover_id', 'moves', 'turns', 'start_time', 'end_time']"
   ]
  },
  {
   "cell_type": "code",
   "execution_count": 5,
   "metadata": {},
   "outputs": [
    {
     "name": "stdout",
     "output_type": "stream",
     "text": [
      "(38268, 10)\n"
     ]
    },
    {
     "data": {
      "text/html": [
       "<div>\n",
       "<style scoped>\n",
       "    .dataframe tbody tr th:only-of-type {\n",
       "        vertical-align: middle;\n",
       "    }\n",
       "\n",
       "    .dataframe tbody tr th {\n",
       "        vertical-align: top;\n",
       "    }\n",
       "\n",
       "    .dataframe thead th {\n",
       "        text-align: right;\n",
       "    }\n",
       "</style>\n",
       "<table border=\"1\" class=\"dataframe\">\n",
       "  <thead>\n",
       "    <tr style=\"text-align: right;\">\n",
       "      <th></th>\n",
       "      <th>game_id</th>\n",
       "      <th>player_one_id</th>\n",
       "      <th>player_two_id</th>\n",
       "      <th>winner_id</th>\n",
       "      <th>first_mover_id</th>\n",
       "      <th>moves</th>\n",
       "      <th>turns</th>\n",
       "      <th>start_time</th>\n",
       "      <th>end_time</th>\n",
       "      <th>player_one_win</th>\n",
       "    </tr>\n",
       "  </thead>\n",
       "  <tbody>\n",
       "    <tr>\n",
       "      <th>0</th>\n",
       "      <td>1731877338926014-313026-dfd03d46</td>\n",
       "      <td>monte_carlo_50</td>\n",
       "      <td>monte_carlo_200</td>\n",
       "      <td>monte_carlo_200</td>\n",
       "      <td>monte_carlo_50</td>\n",
       "      <td>[2, 5, 2, 4, 0, 3, 6, 2, 4, 3, 3, 5, 3, 5, 5, ...</td>\n",
       "      <td>42</td>\n",
       "      <td>NaN</td>\n",
       "      <td>NaN</td>\n",
       "      <td>False</td>\n",
       "    </tr>\n",
       "    <tr>\n",
       "      <th>6</th>\n",
       "      <td>1731877456796490-175216-83d939a1</td>\n",
       "      <td>monte_carlo_100</td>\n",
       "      <td>monte_carlo_200</td>\n",
       "      <td>monte_carlo_200</td>\n",
       "      <td>monte_carlo_100</td>\n",
       "      <td>[4, 5, 2, 4, 1, 3, 1, 4, 1, 1, 2, 4, 4, 3, 2, ...</td>\n",
       "      <td>18</td>\n",
       "      <td>NaN</td>\n",
       "      <td>NaN</td>\n",
       "      <td>False</td>\n",
       "    </tr>\n",
       "  </tbody>\n",
       "</table>\n",
       "</div>"
      ],
      "text/plain": [
       "                            game_id    player_one_id    player_two_id  \\\n",
       "0  1731877338926014-313026-dfd03d46   monte_carlo_50  monte_carlo_200   \n",
       "6  1731877456796490-175216-83d939a1  monte_carlo_100  monte_carlo_200   \n",
       "\n",
       "         winner_id   first_mover_id  \\\n",
       "0  monte_carlo_200   monte_carlo_50   \n",
       "6  monte_carlo_200  monte_carlo_100   \n",
       "\n",
       "                                               moves  turns start_time  \\\n",
       "0  [2, 5, 2, 4, 0, 3, 6, 2, 4, 3, 3, 5, 3, 5, 5, ...     42        NaN   \n",
       "6  [4, 5, 2, 4, 1, 3, 1, 4, 1, 1, 2, 4, 4, 3, 2, ...     18        NaN   \n",
       "\n",
       "  end_time  player_one_win  \n",
       "0      NaN           False  \n",
       "6      NaN           False  "
      ]
     },
     "execution_count": 5,
     "metadata": {},
     "output_type": "execute_result"
    }
   ],
   "source": [
    "data_df_1 = raw_data.copy()\n",
    "\n",
    "# Exclude any model that isn't a monte carlo model\n",
    "p1_monte = data_df_1.player_one_id.str.contains('monte')\n",
    "p2_monte = data_df_1.player_two_id.str.contains('monte')\n",
    "data_df_1 = data_df_1[p1_monte & p2_monte].copy()\n",
    "\n",
    "# Add indicator var if player one is the winner\n",
    "data_df_1['player_one_win'] = data_df_1.winner_id == data_df_1.player_one_id\n",
    "\n",
    "print(data_df_1.shape)\n",
    "data_df_1.head(2)"
   ]
  },
  {
   "cell_type": "code",
   "execution_count": 6,
   "metadata": {},
   "outputs": [
    {
     "data": {
      "text/plain": [
       "[[0. 0. 0. 0. 0. 0. 0.]\n",
       " [0. 0. 0. 0. 1. 0. 0.]\n",
       " [0. 2. 2. 2. 2. 0. 0.]\n",
       " [0. 1. 1. 1. 2. 0. 0.]\n",
       " [0. 1. 1. 2. 2. 0. 0.]\n",
       " [0. 1. 1. 2. 1. 2. 0.]]"
      ]
     },
     "execution_count": 6,
     "metadata": {},
     "output_type": "execute_result"
    }
   ],
   "source": [
    "g1 = data_df_1.iloc[1]\n",
    "moves = g1['moves']\n",
    "boards = [mt.Board.from_turn_sequence(moves[:i]) for i in range(1, len(moves)+1)]\n",
    "boards = [mt.Board()] + boards\n",
    "boards[-1]"
   ]
  },
  {
   "cell_type": "code",
   "execution_count": null,
   "metadata": {},
   "outputs": [],
   "source": []
  },
  {
   "cell_type": "code",
   "execution_count": 7,
   "metadata": {},
   "outputs": [
    {
     "data": {
      "text/plain": [
       "18"
      ]
     },
     "execution_count": 7,
     "metadata": {},
     "output_type": "execute_result"
    }
   ],
   "source": [
    "len(moves)"
   ]
  },
  {
   "cell_type": "code",
   "execution_count": 8,
   "metadata": {},
   "outputs": [
    {
     "data": {
      "text/plain": [
       "array([[ 0.,  0.,  0.,  0.,  0.,  0.,  0.],\n",
       "       [ 0.,  0.,  0.,  0.,  1.,  0.,  0.],\n",
       "       [ 0., -1., -1., -1., -1.,  0.,  0.],\n",
       "       [ 0.,  1.,  1.,  1., -1.,  0.,  0.],\n",
       "       [ 0.,  1.,  1., -1., -1.,  0.,  0.],\n",
       "       [ 0.,  1.,  1., -1.,  1., -1.,  0.]])"
      ]
     },
     "execution_count": 8,
     "metadata": {},
     "output_type": "execute_result"
    }
   ],
   "source": [
    "[board.turn_token for board in boards]\n",
    "new_grids = []\n",
    "for board in boards:\n",
    "    grid = board.grid\n",
    "    # Convert values that are this token to 1, and the other token to -1\n",
    "    turn_token_mask = grid == board.turn_token\n",
    "    zero_mask = grid == 0\n",
    "    grid[turn_token_mask] = 1\n",
    "    # If you are non-zero and not the turn token, you are -1\n",
    "    grid[(~zero_mask) & (~turn_token_mask)] = -1\n",
    "    new_grids.append(grid)\n",
    "new_grids[-1]"
   ]
  },
  {
   "cell_type": "code",
   "execution_count": 23,
   "metadata": {},
   "outputs": [
    {
     "data": {
      "text/plain": [
       "[1, 3, 5, 7, 9]"
      ]
     },
     "execution_count": 23,
     "metadata": {},
     "output_type": "execute_result"
    }
   ],
   "source": [
    "rewards = np.ones(len(moves))\n",
    "# If player one wins, then all even rewards are 1, and all odd rewards are -1\n",
    "# for i in range(len(moves)):\n",
    "\n",
    "list(range(1, 11, 2))"
   ]
  },
  {
   "cell_type": "code",
   "execution_count": null,
   "metadata": {},
   "outputs": [],
   "source": []
  },
  {
   "cell_type": "code",
   "execution_count": null,
   "metadata": {},
   "outputs": [],
   "source": []
  },
  {
   "cell_type": "code",
   "execution_count": 38,
   "metadata": {},
   "outputs": [
    {
     "name": "stdout",
     "output_type": "stream",
     "text": [
      "[[0. 0. 0. 0. 0. 0. 0.]\n",
      " [0. 0. 0. 0. 0. 0. 0.]\n",
      " [0. 0. 0. 0. 0. 0. 0.]\n",
      " [0. 0. 0. 0. 0. 0. 0.]\n",
      " [0. 0. 0. 0. 0. 0. 0.]\n",
      " [0. 0. 0. 0. 0. 0. 0.]]\n",
      "4\n",
      "\n",
      "[[ 0.  0.  0.  0.  0.  0.  0.]\n",
      " [ 0.  0.  0.  0.  0.  0.  0.]\n",
      " [ 0.  0.  0.  0.  0.  0.  0.]\n",
      " [ 0.  0.  0.  0.  0.  0.  0.]\n",
      " [ 0.  0.  0.  0.  0.  0.  0.]\n",
      " [ 0.  0.  0.  0. -1.  0.  0.]]\n",
      "5\n",
      "\n",
      "[[ 0.  0.  0.  0.  0.  0.  0.]\n",
      " [ 0.  0.  0.  0.  0.  0.  0.]\n",
      " [ 0.  0.  0.  0.  0.  0.  0.]\n",
      " [ 0.  0.  0.  0.  0.  0.  0.]\n",
      " [ 0.  0.  0.  0.  0.  0.  0.]\n",
      " [ 0.  0.  0.  0.  1. -1.  0.]]\n",
      "2\n",
      "\n",
      "[[ 0.  0.  0.  0.  0.  0.  0.]\n",
      " [ 0.  0.  0.  0.  0.  0.  0.]\n",
      " [ 0.  0.  0.  0.  0.  0.  0.]\n",
      " [ 0.  0.  0.  0.  0.  0.  0.]\n",
      " [ 0.  0.  0.  0.  0.  0.  0.]\n",
      " [ 0.  0. -1.  0. -1. -1.  0.]]\n",
      "4\n",
      "\n",
      "[[ 0.  0.  0.  0.  0.  0.  0.]\n",
      " [ 0.  0.  0.  0.  0.  0.  0.]\n",
      " [ 0.  0.  0.  0.  0.  0.  0.]\n",
      " [ 0.  0.  0.  0.  0.  0.  0.]\n",
      " [ 0.  0.  0.  0. -1.  0.  0.]\n",
      " [ 0.  0.  1.  0.  1. -1.  0.]]\n",
      "1\n",
      "\n",
      "[[ 0.  0.  0.  0.  0.  0.  0.]\n",
      " [ 0.  0.  0.  0.  0.  0.  0.]\n",
      " [ 0.  0.  0.  0.  0.  0.  0.]\n",
      " [ 0.  0.  0.  0.  0.  0.  0.]\n",
      " [ 0.  0.  0.  0. -1.  0.  0.]\n",
      " [ 0. -1. -1.  0. -1. -1.  0.]]\n",
      "3\n",
      "\n",
      "[[ 0.  0.  0.  0.  0.  0.  0.]\n",
      " [ 0.  0.  0.  0.  0.  0.  0.]\n",
      " [ 0.  0.  0.  0.  0.  0.  0.]\n",
      " [ 0.  0.  0.  0.  0.  0.  0.]\n",
      " [ 0.  0.  0.  0. -1.  0.  0.]\n",
      " [ 0.  1.  1. -1.  1. -1.  0.]]\n",
      "1\n",
      "\n",
      "[[ 0.  0.  0.  0.  0.  0.  0.]\n",
      " [ 0.  0.  0.  0.  0.  0.  0.]\n",
      " [ 0.  0.  0.  0.  0.  0.  0.]\n",
      " [ 0.  0.  0.  0.  0.  0.  0.]\n",
      " [ 0. -1.  0.  0. -1.  0.  0.]\n",
      " [ 0. -1. -1. -1. -1. -1.  0.]]\n",
      "4\n",
      "\n",
      "[[ 0.  0.  0.  0.  0.  0.  0.]\n",
      " [ 0.  0.  0.  0.  0.  0.  0.]\n",
      " [ 0.  0.  0.  0.  0.  0.  0.]\n",
      " [ 0.  0.  0.  0. -1.  0.  0.]\n",
      " [ 0.  1.  0.  0. -1.  0.  0.]\n",
      " [ 0.  1.  1. -1.  1. -1.  0.]]\n",
      "1\n",
      "\n",
      "[[ 0.  0.  0.  0.  0.  0.  0.]\n",
      " [ 0.  0.  0.  0.  0.  0.  0.]\n",
      " [ 0.  0.  0.  0.  0.  0.  0.]\n",
      " [ 0. -1.  0.  0. -1.  0.  0.]\n",
      " [ 0. -1.  0.  0. -1.  0.  0.]\n",
      " [ 0. -1. -1. -1. -1. -1.  0.]]\n",
      "1\n",
      "\n",
      "[[ 0.  0.  0.  0.  0.  0.  0.]\n",
      " [ 0.  0.  0.  0.  0.  0.  0.]\n",
      " [ 0. -1.  0.  0.  0.  0.  0.]\n",
      " [ 0.  1.  0.  0. -1.  0.  0.]\n",
      " [ 0.  1.  0.  0. -1.  0.  0.]\n",
      " [ 0.  1.  1. -1.  1. -1.  0.]]\n",
      "2\n",
      "\n",
      "[[ 0.  0.  0.  0.  0.  0.  0.]\n",
      " [ 0.  0.  0.  0.  0.  0.  0.]\n",
      " [ 0. -1.  0.  0.  0.  0.  0.]\n",
      " [ 0. -1.  0.  0. -1.  0.  0.]\n",
      " [ 0. -1. -1.  0. -1.  0.  0.]\n",
      " [ 0. -1. -1. -1. -1. -1.  0.]]\n",
      "4\n",
      "\n",
      "[[ 0.  0.  0.  0.  0.  0.  0.]\n",
      " [ 0.  0.  0.  0.  0.  0.  0.]\n",
      " [ 0. -1.  0.  0. -1.  0.  0.]\n",
      " [ 0.  1.  0.  0. -1.  0.  0.]\n",
      " [ 0.  1.  1.  0. -1.  0.  0.]\n",
      " [ 0.  1.  1. -1.  1. -1.  0.]]\n",
      "4\n",
      "\n",
      "[[ 0.  0.  0.  0.  0.  0.  0.]\n",
      " [ 0.  0.  0.  0. -1.  0.  0.]\n",
      " [ 0. -1.  0.  0. -1.  0.  0.]\n",
      " [ 0. -1.  0.  0. -1.  0.  0.]\n",
      " [ 0. -1. -1.  0. -1.  0.  0.]\n",
      " [ 0. -1. -1. -1. -1. -1.  0.]]\n",
      "3\n",
      "\n",
      "[[ 0.  0.  0.  0.  0.  0.  0.]\n",
      " [ 0.  0.  0.  0.  1.  0.  0.]\n",
      " [ 0. -1.  0.  0. -1.  0.  0.]\n",
      " [ 0.  1.  0.  0. -1.  0.  0.]\n",
      " [ 0.  1.  1. -1. -1.  0.  0.]\n",
      " [ 0.  1.  1. -1.  1. -1.  0.]]\n",
      "2\n",
      "\n",
      "[[ 0.  0.  0.  0.  0.  0.  0.]\n",
      " [ 0.  0.  0.  0. -1.  0.  0.]\n",
      " [ 0. -1.  0.  0. -1.  0.  0.]\n",
      " [ 0. -1. -1.  0. -1.  0.  0.]\n",
      " [ 0. -1. -1. -1. -1.  0.  0.]\n",
      " [ 0. -1. -1. -1. -1. -1.  0.]]\n",
      "2\n",
      "\n",
      "[[ 0.  0.  0.  0.  0.  0.  0.]\n",
      " [ 0.  0.  0.  0.  1.  0.  0.]\n",
      " [ 0. -1. -1.  0. -1.  0.  0.]\n",
      " [ 0.  1.  1.  0. -1.  0.  0.]\n",
      " [ 0.  1.  1. -1. -1.  0.  0.]\n",
      " [ 0.  1.  1. -1.  1. -1.  0.]]\n",
      "3\n",
      "\n",
      "[[ 0.  0.  0.  0.  0.  0.  0.]\n",
      " [ 0.  0.  0.  0. -1.  0.  0.]\n",
      " [ 0. -1. -1.  0. -1.  0.  0.]\n",
      " [ 0. -1. -1. -1. -1.  0.  0.]\n",
      " [ 0. -1. -1. -1. -1.  0.  0.]\n",
      " [ 0. -1. -1. -1. -1. -1.  0.]]\n",
      "3\n",
      "\n"
     ]
    }
   ],
   "source": [
    "combo = zip(new_grids,moves)\n",
    "for grid, move in combo:\n",
    "    print(grid)\n",
    "    print(move)\n",
    "    print()"
   ]
  },
  {
   "cell_type": "code",
   "execution_count": null,
   "metadata": {},
   "outputs": [],
   "source": []
  },
  {
   "cell_type": "code",
   "execution_count": null,
   "metadata": {},
   "outputs": [],
   "source": []
  },
  {
   "cell_type": "code",
   "execution_count": null,
   "metadata": {},
   "outputs": [],
   "source": []
  },
  {
   "cell_type": "code",
   "execution_count": null,
   "metadata": {},
   "outputs": [],
   "source": []
  },
  {
   "cell_type": "code",
   "execution_count": null,
   "metadata": {},
   "outputs": [],
   "source": []
  },
  {
   "cell_type": "code",
   "execution_count": null,
   "metadata": {},
   "outputs": [],
   "source": []
  },
  {
   "cell_type": "code",
   "execution_count": null,
   "metadata": {},
   "outputs": [],
   "source": []
  },
  {
   "cell_type": "code",
   "execution_count": null,
   "metadata": {},
   "outputs": [],
   "source": []
  },
  {
   "cell_type": "code",
   "execution_count": null,
   "metadata": {},
   "outputs": [],
   "source": []
  },
  {
   "cell_type": "code",
   "execution_count": null,
   "metadata": {},
   "outputs": [],
   "source": []
  },
  {
   "cell_type": "code",
   "execution_count": null,
   "metadata": {},
   "outputs": [],
   "source": []
  },
  {
   "cell_type": "code",
   "execution_count": null,
   "metadata": {},
   "outputs": [],
   "source": []
  }
 ],
 "metadata": {
  "kernelspec": {
   "display_name": "BG1",
   "language": "python",
   "name": "python3"
  },
  "language_info": {
   "codemirror_mode": {
    "name": "ipython",
    "version": 3
   },
   "file_extension": ".py",
   "mimetype": "text/x-python",
   "name": "python",
   "nbconvert_exporter": "python",
   "pygments_lexer": "ipython3",
   "version": "3.12.4"
  }
 },
 "nbformat": 4,
 "nbformat_minor": 2
}
